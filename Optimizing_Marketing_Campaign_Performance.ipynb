{
 "cells": [
  {
   "cell_type": "markdown",
   "metadata": {},
   "source": [
    "# Hypothetical Campaign Scenario: Launch of \"Classic Men's Jeans\"\n",
    "A clothing retailer is preparing to launch a new product line: \"Classic Men's Jeans.\" The company aims to penetrate the mid-range market segment and attract a younger demographic (ages 18-24). They have allocated a budget of $5,000 for a multi-channel marketing campaign over a three-month period.\n",
    "\n",
    "Objectives is to:\n",
    "1.  Maximize Conversion Rates\n",
    "2.\tOptimize ROI\n",
    "3.\tExpand Customer Base\n"
   ]
  },
  {
   "cell_type": "code",
   "execution_count": 97,
   "metadata": {},
   "outputs": [],
   "source": [
    "import numpy as np\n",
    "import matplotlib.pyplot as plt\n",
    "import pandas as pd \n",
    "import seaborn as sns   \n",
    "\n",
    "import warnings\n",
    "warnings.filterwarnings(\"ignore\")"
   ]
  },
  {
   "cell_type": "code",
   "execution_count": 98,
   "metadata": {},
   "outputs": [],
   "source": [
    "df = pd.read_csv('marketing_campaign_dataset_cleaned.csv')"
   ]
  },
  {
   "cell_type": "code",
   "execution_count": 99,
   "metadata": {},
   "outputs": [
    {
     "data": {
      "text/html": [
       "<div>\n",
       "<style scoped>\n",
       "    .dataframe tbody tr th:only-of-type {\n",
       "        vertical-align: middle;\n",
       "    }\n",
       "\n",
       "    .dataframe tbody tr th {\n",
       "        vertical-align: top;\n",
       "    }\n",
       "\n",
       "    .dataframe thead th {\n",
       "        text-align: right;\n",
       "    }\n",
       "</style>\n",
       "<table border=\"1\" class=\"dataframe\">\n",
       "  <thead>\n",
       "    <tr style=\"text-align: right;\">\n",
       "      <th></th>\n",
       "      <th>Campaign_ID</th>\n",
       "      <th>Company</th>\n",
       "      <th>Campaign_Type</th>\n",
       "      <th>Target_Audience</th>\n",
       "      <th>Duration</th>\n",
       "      <th>Channel_Used</th>\n",
       "      <th>Conversion_Rate</th>\n",
       "      <th>Acquisition_Cost</th>\n",
       "      <th>ROI</th>\n",
       "      <th>Location</th>\n",
       "      <th>...</th>\n",
       "      <th>Customer_Segment</th>\n",
       "      <th>Date</th>\n",
       "      <th>campaign_month</th>\n",
       "      <th>campaign_quarter</th>\n",
       "      <th>campaign_channel_interaction</th>\n",
       "      <th>total_customers_converted</th>\n",
       "      <th>total_amount_spent</th>\n",
       "      <th>net_profit</th>\n",
       "      <th>CPC</th>\n",
       "      <th>CTR</th>\n",
       "    </tr>\n",
       "  </thead>\n",
       "  <tbody>\n",
       "    <tr>\n",
       "      <th>0</th>\n",
       "      <td>1</td>\n",
       "      <td>Innovate Industries</td>\n",
       "      <td>Email</td>\n",
       "      <td>Men 18-24</td>\n",
       "      <td>30</td>\n",
       "      <td>Google Ads</td>\n",
       "      <td>0.101</td>\n",
       "      <td>3208.83</td>\n",
       "      <td>9.20</td>\n",
       "      <td>Chicago</td>\n",
       "      <td>...</td>\n",
       "      <td>Health &amp; Wellness</td>\n",
       "      <td>2021-01-01</td>\n",
       "      <td>1</td>\n",
       "      <td>1</td>\n",
       "      <td>Email_Google Ads</td>\n",
       "      <td>19.291</td>\n",
       "      <td>6.190154e+04</td>\n",
       "      <td>5.694942e+05</td>\n",
       "      <td>324.09183</td>\n",
       "      <td>0.925926</td>\n",
       "    </tr>\n",
       "    <tr>\n",
       "      <th>1</th>\n",
       "      <td>2</td>\n",
       "      <td>NexGen Systems</td>\n",
       "      <td>Email</td>\n",
       "      <td>Women 35-44</td>\n",
       "      <td>60</td>\n",
       "      <td>Google Ads</td>\n",
       "      <td>0.213</td>\n",
       "      <td>5126.26</td>\n",
       "      <td>10.79</td>\n",
       "      <td>New York</td>\n",
       "      <td>...</td>\n",
       "      <td>Fashionistas</td>\n",
       "      <td>2021-01-02</td>\n",
       "      <td>1</td>\n",
       "      <td>1</td>\n",
       "      <td>Email_Google Ads</td>\n",
       "      <td>354.858</td>\n",
       "      <td>1.819094e+06</td>\n",
       "      <td>1.962803e+07</td>\n",
       "      <td>1091.89338</td>\n",
       "      <td>5.392633</td>\n",
       "    </tr>\n",
       "    <tr>\n",
       "      <th>2</th>\n",
       "      <td>3</td>\n",
       "      <td>Alpha Innovations</td>\n",
       "      <td>Influencer</td>\n",
       "      <td>Men 25-34</td>\n",
       "      <td>30</td>\n",
       "      <td>YouTube</td>\n",
       "      <td>0.028</td>\n",
       "      <td>31422.13</td>\n",
       "      <td>13.86</td>\n",
       "      <td>Los Angeles</td>\n",
       "      <td>...</td>\n",
       "      <td>Outdoor Adventurers</td>\n",
       "      <td>2021-01-03</td>\n",
       "      <td>1</td>\n",
       "      <td>1</td>\n",
       "      <td>Influencer_YouTube</td>\n",
       "      <td>35.868</td>\n",
       "      <td>1.127049e+06</td>\n",
       "      <td>1.562090e+07</td>\n",
       "      <td>879.81964</td>\n",
       "      <td>41.442899</td>\n",
       "    </tr>\n",
       "    <tr>\n",
       "      <th>3</th>\n",
       "      <td>4</td>\n",
       "      <td>DataTech Solutions</td>\n",
       "      <td>Display</td>\n",
       "      <td>All Ages</td>\n",
       "      <td>60</td>\n",
       "      <td>YouTube</td>\n",
       "      <td>0.021</td>\n",
       "      <td>29309.30</td>\n",
       "      <td>1.04</td>\n",
       "      <td>Miami</td>\n",
       "      <td>...</td>\n",
       "      <td>Health &amp; Wellness</td>\n",
       "      <td>2021-01-04</td>\n",
       "      <td>1</td>\n",
       "      <td>1</td>\n",
       "      <td>Display_YouTube</td>\n",
       "      <td>12.180</td>\n",
       "      <td>3.569873e+05</td>\n",
       "      <td>3.712668e+05</td>\n",
       "      <td>615.49530</td>\n",
       "      <td>2.164341</td>\n",
       "    </tr>\n",
       "    <tr>\n",
       "      <th>4</th>\n",
       "      <td>5</td>\n",
       "      <td>NexGen Systems</td>\n",
       "      <td>Email</td>\n",
       "      <td>Men 25-34</td>\n",
       "      <td>15</td>\n",
       "      <td>YouTube</td>\n",
       "      <td>0.025</td>\n",
       "      <td>27895.45</td>\n",
       "      <td>13.33</td>\n",
       "      <td>Los Angeles</td>\n",
       "      <td>...</td>\n",
       "      <td>Health &amp; Wellness</td>\n",
       "      <td>2021-01-05</td>\n",
       "      <td>1</td>\n",
       "      <td>1</td>\n",
       "      <td>Email_YouTube</td>\n",
       "      <td>12.500</td>\n",
       "      <td>3.486931e+05</td>\n",
       "      <td>4.648079e+06</td>\n",
       "      <td>697.38625</td>\n",
       "      <td>2.540263</td>\n",
       "    </tr>\n",
       "  </tbody>\n",
       "</table>\n",
       "<p>5 rows × 24 columns</p>\n",
       "</div>"
      ],
      "text/plain": [
       "   Campaign_ID              Company Campaign_Type Target_Audience  Duration  \\\n",
       "0            1  Innovate Industries         Email       Men 18-24        30   \n",
       "1            2       NexGen Systems         Email     Women 35-44        60   \n",
       "2            3    Alpha Innovations    Influencer       Men 25-34        30   \n",
       "3            4   DataTech Solutions       Display        All Ages        60   \n",
       "4            5       NexGen Systems         Email       Men 25-34        15   \n",
       "\n",
       "  Channel_Used  Conversion_Rate  Acquisition_Cost    ROI     Location  ...  \\\n",
       "0   Google Ads            0.101           3208.83   9.20      Chicago  ...   \n",
       "1   Google Ads            0.213           5126.26  10.79     New York  ...   \n",
       "2      YouTube            0.028          31422.13  13.86  Los Angeles  ...   \n",
       "3      YouTube            0.021          29309.30   1.04        Miami  ...   \n",
       "4      YouTube            0.025          27895.45  13.33  Los Angeles  ...   \n",
       "\n",
       "      Customer_Segment        Date  campaign_month  campaign_quarter  \\\n",
       "0    Health & Wellness  2021-01-01               1                 1   \n",
       "1         Fashionistas  2021-01-02               1                 1   \n",
       "2  Outdoor Adventurers  2021-01-03               1                 1   \n",
       "3    Health & Wellness  2021-01-04               1                 1   \n",
       "4    Health & Wellness  2021-01-05               1                 1   \n",
       "\n",
       "  campaign_channel_interaction total_customers_converted  total_amount_spent  \\\n",
       "0             Email_Google Ads                    19.291        6.190154e+04   \n",
       "1             Email_Google Ads                   354.858        1.819094e+06   \n",
       "2           Influencer_YouTube                    35.868        1.127049e+06   \n",
       "3              Display_YouTube                    12.180        3.569873e+05   \n",
       "4                Email_YouTube                    12.500        3.486931e+05   \n",
       "\n",
       "     net_profit         CPC        CTR  \n",
       "0  5.694942e+05   324.09183   0.925926  \n",
       "1  1.962803e+07  1091.89338   5.392633  \n",
       "2  1.562090e+07   879.81964  41.442899  \n",
       "3  3.712668e+05   615.49530   2.164341  \n",
       "4  4.648079e+06   697.38625   2.540263  \n",
       "\n",
       "[5 rows x 24 columns]"
      ]
     },
     "execution_count": 99,
     "metadata": {},
     "output_type": "execute_result"
    }
   ],
   "source": [
    "df.head()"
   ]
  },
  {
   "cell_type": "markdown",
   "metadata": {},
   "source": [
    "## Exploratory Analysis"
   ]
  },
  {
   "cell_type": "markdown",
   "metadata": {},
   "source": [
    "### 1. How do impressions and CTRs vary across different channels and campaign types, and what can this tell us about potential engagement levels for the 'Classic Men's Jeans' campaign?"
   ]
  },
  {
   "cell_type": "markdown",
   "metadata": {},
   "source": [
    "First finding the channels which have high impressions for Men in age 18 to 24"
   ]
  },
  {
   "cell_type": "code",
   "execution_count": 100,
   "metadata": {},
   "outputs": [],
   "source": [
    "filtered_data = df[(df['Target_Audience'] == 'Men 18-24')]\n",
    "\n",
    "# Calculate total impressions for each channel\n",
    "impressions_channel = filtered_data.groupby('Channel_Used')['Impressions'].sum().reset_index()\n",
    "\n",
    "# Sort the results to find channels with highest impressions\n",
    "impressions_channel = impressions_channel.sort_values(by='Impressions', ascending=False)\n",
    "\n",
    "# Display the results\n",
    "#print(\"Total Impressions by Channel for Men 18-24:\")\n",
    "#print(impressions_channel)"
   ]
  },
  {
   "cell_type": "markdown",
   "metadata": {},
   "source": [
    "For the top performing channels, we will identify which campaign types within these channels yield the highest engagement levels (CTR)."
   ]
  },
  {
   "cell_type": "code",
   "execution_count": 101,
   "metadata": {},
   "outputs": [],
   "source": [
    "top_channels = ['Instagram', 'Facebook', 'Google Ads']\n",
    "filtered_top_channels = filtered_data[filtered_data['Channel_Used'].isin(top_channels)]\n",
    "\n",
    "# Calculate the average CTR for each Campaign Type within these top channels\n",
    "ctr_by_campaign = filtered_top_channels.groupby(['Channel_Used', 'Campaign_Type']).agg({'CTR': 'mean'}).reset_index()\n",
    "\n",
    "# Sort the results to see the highest CTRs for each channel\n",
    "ctr_by_campaign = ctr_by_campaign.sort_values(by=['Channel_Used', 'CTR'], ascending=[True, False])\n",
    "\n",
    "# Display the CTR analysis\n",
    "#print(\"CTR Analysis for Instagram, Facebook, and Google Ads:\")\n",
    "#print(ctr_by_campaign)"
   ]
  },
  {
   "cell_type": "code",
   "execution_count": 102,
   "metadata": {},
   "outputs": [
    {
     "data": {
      "application/vnd.plotly.v1+json": {
       "config": {
        "plotlyServerURL": "https://plot.ly"
       },
       "data": [
        {
         "alignmentgroup": "True",
         "hovertemplate": "Campaign_Type=Search<br>CTR=%{x}<br>Channel_Used=%{y}<br>text=%{text}<extra></extra>",
         "legendgroup": "Search",
         "marker": {
          "color": "rgb(136, 204, 238)",
          "pattern": {
           "shape": ""
          }
         },
         "name": "Search",
         "offsetgroup": "Search",
         "orientation": "h",
         "showlegend": true,
         "text": [
          11.14,
          10.92,
          10.41
         ],
         "textposition": "outside",
         "texttemplate": "%{text:.2f}",
         "type": "bar",
         "x": [
          11.140519781950218,
          10.920586754080698,
          10.41099001416983
         ],
         "xaxis": "x",
         "y": [
          "Facebook",
          "Google Ads",
          "Instagram"
         ],
         "yaxis": "y"
        },
        {
         "alignmentgroup": "True",
         "hovertemplate": "Campaign_Type=Display<br>CTR=%{x}<br>Channel_Used=%{y}<br>text=%{text}<extra></extra>",
         "legendgroup": "Display",
         "marker": {
          "color": "rgb(204, 102, 119)",
          "pattern": {
           "shape": ""
          }
         },
         "name": "Display",
         "offsetgroup": "Display",
         "orientation": "h",
         "showlegend": true,
         "text": [
          10.82,
          10.79,
          10.7
         ],
         "textposition": "outside",
         "texttemplate": "%{text:.2f}",
         "type": "bar",
         "x": [
          10.820621591694662,
          10.788789234273985,
          10.701350223332238
         ],
         "xaxis": "x",
         "y": [
          "Facebook",
          "Google Ads",
          "Instagram"
         ],
         "yaxis": "y"
        },
        {
         "alignmentgroup": "True",
         "hovertemplate": "Campaign_Type=Email<br>CTR=%{x}<br>Channel_Used=%{y}<br>text=%{text}<extra></extra>",
         "legendgroup": "Email",
         "marker": {
          "color": "rgb(221, 204, 119)",
          "pattern": {
           "shape": ""
          }
         },
         "name": "Email",
         "offsetgroup": "Email",
         "orientation": "h",
         "showlegend": true,
         "text": [
          10.76,
          10.19,
          11.19
         ],
         "textposition": "outside",
         "texttemplate": "%{text:.2f}",
         "type": "bar",
         "x": [
          10.758939929475673,
          10.192648361380149,
          11.191750763958803
         ],
         "xaxis": "x",
         "y": [
          "Facebook",
          "Google Ads",
          "Instagram"
         ],
         "yaxis": "y"
        },
        {
         "alignmentgroup": "True",
         "hovertemplate": "Campaign_Type=Influencer<br>CTR=%{x}<br>Channel_Used=%{y}<br>text=%{text}<extra></extra>",
         "legendgroup": "Influencer",
         "marker": {
          "color": "rgb(17, 119, 51)",
          "pattern": {
           "shape": ""
          }
         },
         "name": "Influencer",
         "offsetgroup": "Influencer",
         "orientation": "h",
         "showlegend": true,
         "text": [
          10.39,
          10.24,
          10.05
         ],
         "textposition": "outside",
         "texttemplate": "%{text:.2f}",
         "type": "bar",
         "x": [
          10.386523661565244,
          10.237773254134702,
          10.048592948980817
         ],
         "xaxis": "x",
         "y": [
          "Facebook",
          "Google Ads",
          "Instagram"
         ],
         "yaxis": "y"
        },
        {
         "alignmentgroup": "True",
         "hovertemplate": "Campaign_Type=Social Media<br>CTR=%{x}<br>Channel_Used=%{y}<br>text=%{text}<extra></extra>",
         "legendgroup": "Social Media",
         "marker": {
          "color": "rgb(51, 34, 136)",
          "pattern": {
           "shape": ""
          }
         },
         "name": "Social Media",
         "offsetgroup": "Social Media",
         "orientation": "h",
         "showlegend": true,
         "text": [
          10.03,
          10.27,
          10.34
         ],
         "textposition": "outside",
         "texttemplate": "%{text:.2f}",
         "type": "bar",
         "x": [
          10.0292485952946,
          10.26503861529664,
          10.338992083750172
         ],
         "xaxis": "x",
         "y": [
          "Facebook",
          "Google Ads",
          "Instagram"
         ],
         "yaxis": "y"
        }
       ],
       "layout": {
        "bargap": 0.2,
        "barmode": "group",
        "legend": {
         "title": {
          "text": "Campaign Type"
         },
         "tracegroupgap": 0
        },
        "margin": {
         "t": 60
        },
        "paper_bgcolor": "rgba(240, 240, 240, 1)",
        "plot_bgcolor": "rgba(255, 255, 255, 0.5)",
        "template": {
         "data": {
          "bar": [
           {
            "error_x": {
             "color": "#2a3f5f"
            },
            "error_y": {
             "color": "#2a3f5f"
            },
            "marker": {
             "line": {
              "color": "#E5ECF6",
              "width": 0.5
             },
             "pattern": {
              "fillmode": "overlay",
              "size": 10,
              "solidity": 0.2
             }
            },
            "type": "bar"
           }
          ],
          "barpolar": [
           {
            "marker": {
             "line": {
              "color": "#E5ECF6",
              "width": 0.5
             },
             "pattern": {
              "fillmode": "overlay",
              "size": 10,
              "solidity": 0.2
             }
            },
            "type": "barpolar"
           }
          ],
          "carpet": [
           {
            "aaxis": {
             "endlinecolor": "#2a3f5f",
             "gridcolor": "white",
             "linecolor": "white",
             "minorgridcolor": "white",
             "startlinecolor": "#2a3f5f"
            },
            "baxis": {
             "endlinecolor": "#2a3f5f",
             "gridcolor": "white",
             "linecolor": "white",
             "minorgridcolor": "white",
             "startlinecolor": "#2a3f5f"
            },
            "type": "carpet"
           }
          ],
          "choropleth": [
           {
            "colorbar": {
             "outlinewidth": 0,
             "ticks": ""
            },
            "type": "choropleth"
           }
          ],
          "contour": [
           {
            "colorbar": {
             "outlinewidth": 0,
             "ticks": ""
            },
            "colorscale": [
             [
              0,
              "#0d0887"
             ],
             [
              0.1111111111111111,
              "#46039f"
             ],
             [
              0.2222222222222222,
              "#7201a8"
             ],
             [
              0.3333333333333333,
              "#9c179e"
             ],
             [
              0.4444444444444444,
              "#bd3786"
             ],
             [
              0.5555555555555556,
              "#d8576b"
             ],
             [
              0.6666666666666666,
              "#ed7953"
             ],
             [
              0.7777777777777778,
              "#fb9f3a"
             ],
             [
              0.8888888888888888,
              "#fdca26"
             ],
             [
              1,
              "#f0f921"
             ]
            ],
            "type": "contour"
           }
          ],
          "contourcarpet": [
           {
            "colorbar": {
             "outlinewidth": 0,
             "ticks": ""
            },
            "type": "contourcarpet"
           }
          ],
          "heatmap": [
           {
            "colorbar": {
             "outlinewidth": 0,
             "ticks": ""
            },
            "colorscale": [
             [
              0,
              "#0d0887"
             ],
             [
              0.1111111111111111,
              "#46039f"
             ],
             [
              0.2222222222222222,
              "#7201a8"
             ],
             [
              0.3333333333333333,
              "#9c179e"
             ],
             [
              0.4444444444444444,
              "#bd3786"
             ],
             [
              0.5555555555555556,
              "#d8576b"
             ],
             [
              0.6666666666666666,
              "#ed7953"
             ],
             [
              0.7777777777777778,
              "#fb9f3a"
             ],
             [
              0.8888888888888888,
              "#fdca26"
             ],
             [
              1,
              "#f0f921"
             ]
            ],
            "type": "heatmap"
           }
          ],
          "heatmapgl": [
           {
            "colorbar": {
             "outlinewidth": 0,
             "ticks": ""
            },
            "colorscale": [
             [
              0,
              "#0d0887"
             ],
             [
              0.1111111111111111,
              "#46039f"
             ],
             [
              0.2222222222222222,
              "#7201a8"
             ],
             [
              0.3333333333333333,
              "#9c179e"
             ],
             [
              0.4444444444444444,
              "#bd3786"
             ],
             [
              0.5555555555555556,
              "#d8576b"
             ],
             [
              0.6666666666666666,
              "#ed7953"
             ],
             [
              0.7777777777777778,
              "#fb9f3a"
             ],
             [
              0.8888888888888888,
              "#fdca26"
             ],
             [
              1,
              "#f0f921"
             ]
            ],
            "type": "heatmapgl"
           }
          ],
          "histogram": [
           {
            "marker": {
             "pattern": {
              "fillmode": "overlay",
              "size": 10,
              "solidity": 0.2
             }
            },
            "type": "histogram"
           }
          ],
          "histogram2d": [
           {
            "colorbar": {
             "outlinewidth": 0,
             "ticks": ""
            },
            "colorscale": [
             [
              0,
              "#0d0887"
             ],
             [
              0.1111111111111111,
              "#46039f"
             ],
             [
              0.2222222222222222,
              "#7201a8"
             ],
             [
              0.3333333333333333,
              "#9c179e"
             ],
             [
              0.4444444444444444,
              "#bd3786"
             ],
             [
              0.5555555555555556,
              "#d8576b"
             ],
             [
              0.6666666666666666,
              "#ed7953"
             ],
             [
              0.7777777777777778,
              "#fb9f3a"
             ],
             [
              0.8888888888888888,
              "#fdca26"
             ],
             [
              1,
              "#f0f921"
             ]
            ],
            "type": "histogram2d"
           }
          ],
          "histogram2dcontour": [
           {
            "colorbar": {
             "outlinewidth": 0,
             "ticks": ""
            },
            "colorscale": [
             [
              0,
              "#0d0887"
             ],
             [
              0.1111111111111111,
              "#46039f"
             ],
             [
              0.2222222222222222,
              "#7201a8"
             ],
             [
              0.3333333333333333,
              "#9c179e"
             ],
             [
              0.4444444444444444,
              "#bd3786"
             ],
             [
              0.5555555555555556,
              "#d8576b"
             ],
             [
              0.6666666666666666,
              "#ed7953"
             ],
             [
              0.7777777777777778,
              "#fb9f3a"
             ],
             [
              0.8888888888888888,
              "#fdca26"
             ],
             [
              1,
              "#f0f921"
             ]
            ],
            "type": "histogram2dcontour"
           }
          ],
          "mesh3d": [
           {
            "colorbar": {
             "outlinewidth": 0,
             "ticks": ""
            },
            "type": "mesh3d"
           }
          ],
          "parcoords": [
           {
            "line": {
             "colorbar": {
              "outlinewidth": 0,
              "ticks": ""
             }
            },
            "type": "parcoords"
           }
          ],
          "pie": [
           {
            "automargin": true,
            "type": "pie"
           }
          ],
          "scatter": [
           {
            "fillpattern": {
             "fillmode": "overlay",
             "size": 10,
             "solidity": 0.2
            },
            "type": "scatter"
           }
          ],
          "scatter3d": [
           {
            "line": {
             "colorbar": {
              "outlinewidth": 0,
              "ticks": ""
             }
            },
            "marker": {
             "colorbar": {
              "outlinewidth": 0,
              "ticks": ""
             }
            },
            "type": "scatter3d"
           }
          ],
          "scattercarpet": [
           {
            "marker": {
             "colorbar": {
              "outlinewidth": 0,
              "ticks": ""
             }
            },
            "type": "scattercarpet"
           }
          ],
          "scattergeo": [
           {
            "marker": {
             "colorbar": {
              "outlinewidth": 0,
              "ticks": ""
             }
            },
            "type": "scattergeo"
           }
          ],
          "scattergl": [
           {
            "marker": {
             "colorbar": {
              "outlinewidth": 0,
              "ticks": ""
             }
            },
            "type": "scattergl"
           }
          ],
          "scattermapbox": [
           {
            "marker": {
             "colorbar": {
              "outlinewidth": 0,
              "ticks": ""
             }
            },
            "type": "scattermapbox"
           }
          ],
          "scatterpolar": [
           {
            "marker": {
             "colorbar": {
              "outlinewidth": 0,
              "ticks": ""
             }
            },
            "type": "scatterpolar"
           }
          ],
          "scatterpolargl": [
           {
            "marker": {
             "colorbar": {
              "outlinewidth": 0,
              "ticks": ""
             }
            },
            "type": "scatterpolargl"
           }
          ],
          "scatterternary": [
           {
            "marker": {
             "colorbar": {
              "outlinewidth": 0,
              "ticks": ""
             }
            },
            "type": "scatterternary"
           }
          ],
          "surface": [
           {
            "colorbar": {
             "outlinewidth": 0,
             "ticks": ""
            },
            "colorscale": [
             [
              0,
              "#0d0887"
             ],
             [
              0.1111111111111111,
              "#46039f"
             ],
             [
              0.2222222222222222,
              "#7201a8"
             ],
             [
              0.3333333333333333,
              "#9c179e"
             ],
             [
              0.4444444444444444,
              "#bd3786"
             ],
             [
              0.5555555555555556,
              "#d8576b"
             ],
             [
              0.6666666666666666,
              "#ed7953"
             ],
             [
              0.7777777777777778,
              "#fb9f3a"
             ],
             [
              0.8888888888888888,
              "#fdca26"
             ],
             [
              1,
              "#f0f921"
             ]
            ],
            "type": "surface"
           }
          ],
          "table": [
           {
            "cells": {
             "fill": {
              "color": "#EBF0F8"
             },
             "line": {
              "color": "white"
             }
            },
            "header": {
             "fill": {
              "color": "#C8D4E3"
             },
             "line": {
              "color": "white"
             }
            },
            "type": "table"
           }
          ]
         },
         "layout": {
          "annotationdefaults": {
           "arrowcolor": "#2a3f5f",
           "arrowhead": 0,
           "arrowwidth": 1
          },
          "autotypenumbers": "strict",
          "coloraxis": {
           "colorbar": {
            "outlinewidth": 0,
            "ticks": ""
           }
          },
          "colorscale": {
           "diverging": [
            [
             0,
             "#8e0152"
            ],
            [
             0.1,
             "#c51b7d"
            ],
            [
             0.2,
             "#de77ae"
            ],
            [
             0.3,
             "#f1b6da"
            ],
            [
             0.4,
             "#fde0ef"
            ],
            [
             0.5,
             "#f7f7f7"
            ],
            [
             0.6,
             "#e6f5d0"
            ],
            [
             0.7,
             "#b8e186"
            ],
            [
             0.8,
             "#7fbc41"
            ],
            [
             0.9,
             "#4d9221"
            ],
            [
             1,
             "#276419"
            ]
           ],
           "sequential": [
            [
             0,
             "#0d0887"
            ],
            [
             0.1111111111111111,
             "#46039f"
            ],
            [
             0.2222222222222222,
             "#7201a8"
            ],
            [
             0.3333333333333333,
             "#9c179e"
            ],
            [
             0.4444444444444444,
             "#bd3786"
            ],
            [
             0.5555555555555556,
             "#d8576b"
            ],
            [
             0.6666666666666666,
             "#ed7953"
            ],
            [
             0.7777777777777778,
             "#fb9f3a"
            ],
            [
             0.8888888888888888,
             "#fdca26"
            ],
            [
             1,
             "#f0f921"
            ]
           ],
           "sequentialminus": [
            [
             0,
             "#0d0887"
            ],
            [
             0.1111111111111111,
             "#46039f"
            ],
            [
             0.2222222222222222,
             "#7201a8"
            ],
            [
             0.3333333333333333,
             "#9c179e"
            ],
            [
             0.4444444444444444,
             "#bd3786"
            ],
            [
             0.5555555555555556,
             "#d8576b"
            ],
            [
             0.6666666666666666,
             "#ed7953"
            ],
            [
             0.7777777777777778,
             "#fb9f3a"
            ],
            [
             0.8888888888888888,
             "#fdca26"
            ],
            [
             1,
             "#f0f921"
            ]
           ]
          },
          "colorway": [
           "#636efa",
           "#EF553B",
           "#00cc96",
           "#ab63fa",
           "#FFA15A",
           "#19d3f3",
           "#FF6692",
           "#B6E880",
           "#FF97FF",
           "#FECB52"
          ],
          "font": {
           "color": "#2a3f5f"
          },
          "geo": {
           "bgcolor": "white",
           "lakecolor": "white",
           "landcolor": "#E5ECF6",
           "showlakes": true,
           "showland": true,
           "subunitcolor": "white"
          },
          "hoverlabel": {
           "align": "left"
          },
          "hovermode": "closest",
          "mapbox": {
           "style": "light"
          },
          "paper_bgcolor": "white",
          "plot_bgcolor": "#E5ECF6",
          "polar": {
           "angularaxis": {
            "gridcolor": "white",
            "linecolor": "white",
            "ticks": ""
           },
           "bgcolor": "#E5ECF6",
           "radialaxis": {
            "gridcolor": "white",
            "linecolor": "white",
            "ticks": ""
           }
          },
          "scene": {
           "xaxis": {
            "backgroundcolor": "#E5ECF6",
            "gridcolor": "white",
            "gridwidth": 2,
            "linecolor": "white",
            "showbackground": true,
            "ticks": "",
            "zerolinecolor": "white"
           },
           "yaxis": {
            "backgroundcolor": "#E5ECF6",
            "gridcolor": "white",
            "gridwidth": 2,
            "linecolor": "white",
            "showbackground": true,
            "ticks": "",
            "zerolinecolor": "white"
           },
           "zaxis": {
            "backgroundcolor": "#E5ECF6",
            "gridcolor": "white",
            "gridwidth": 2,
            "linecolor": "white",
            "showbackground": true,
            "ticks": "",
            "zerolinecolor": "white"
           }
          },
          "shapedefaults": {
           "line": {
            "color": "#2a3f5f"
           }
          },
          "ternary": {
           "aaxis": {
            "gridcolor": "white",
            "linecolor": "white",
            "ticks": ""
           },
           "baxis": {
            "gridcolor": "white",
            "linecolor": "white",
            "ticks": ""
           },
           "bgcolor": "#E5ECF6",
           "caxis": {
            "gridcolor": "white",
            "linecolor": "white",
            "ticks": ""
           }
          },
          "title": {
           "x": 0.05
          },
          "xaxis": {
           "automargin": true,
           "gridcolor": "white",
           "linecolor": "white",
           "ticks": "",
           "title": {
            "standoff": 15
           },
           "zerolinecolor": "white",
           "zerolinewidth": 2
          },
          "yaxis": {
           "automargin": true,
           "gridcolor": "white",
           "linecolor": "white",
           "ticks": "",
           "title": {
            "standoff": 15
           },
           "zerolinecolor": "white",
           "zerolinewidth": 2
          }
         }
        },
        "title": {
         "text": "CTR by Channel and Campaign Type for Men 18-24",
         "x": 0.5
        },
        "xaxis": {
         "anchor": "y",
         "domain": [
          0,
          1
         ],
         "title": {
          "text": "CTR (%)"
         }
        },
        "yaxis": {
         "anchor": "x",
         "domain": [
          0,
          1
         ],
         "title": {
          "text": "Channel"
         }
        }
       }
      }
     },
     "metadata": {},
     "output_type": "display_data"
    }
   ],
   "source": [
    "import plotly.express as px\n",
    "\n",
    "\n",
    "ctr_df_sorted = ctr_by_campaign.sort_values(by=['Channel_Used', 'CTR'], ascending=[True, False])\n",
    "colors = px.colors.qualitative.Safe  \n",
    "\n",
    "# Create a bar plot using Plotly Express for simplicity and better control\n",
    "fig = px.bar(\n",
    "    ctr_df_sorted, \n",
    "    x='CTR', \n",
    "    y='Channel_Used', \n",
    "    color='Campaign_Type', \n",
    "    orientation='h', \n",
    "    barmode='group',\n",
    "    \n",
    "    text=ctr_df_sorted['CTR'].round(2),  # Display CTR with 2 decimal points\n",
    "    color_discrete_sequence=colors  # Use the professional color scheme\n",
    ")\n",
    "\n",
    "# Customize the layout for a professional look\n",
    "fig.update_layout(\n",
    "    title='CTR by Channel and Campaign Type for Men 18-24',\n",
    "    xaxis_title='CTR (%)',\n",
    "    yaxis_title='Channel',\n",
    "    plot_bgcolor='rgba(255, 255, 255, 0.5)',  # Off-white background for plot\n",
    "    paper_bgcolor='rgba(240, 240, 240, 1)',\n",
    "    legend_title=\"Campaign Type\",\n",
    "    title_x=0.5,  # Center the title\n",
    "    bargap=0.2,  # Gap between bar groups\n",
    "    barmode='group',\n",
    "    \n",
    ")\n",
    "\n",
    "# Format the text on bars (CTR values) to be 2 decimal places\n",
    "fig.update_traces(texttemplate='%{text:.2f}', textposition='outside')\n",
    "\n",
    "# Show the figure\n",
    "fig.show()\n"
   ]
  },
  {
   "cell_type": "markdown",
   "metadata": {},
   "source": [
    "#### For the 'Classic Men's Jeans' campaign targeting men aged 18-24:\n",
    "\n",
    "- **Instagram Email campaigns** show the highest engagement, with a **CTR of 11.19%**, making them the most effective.\n",
    "- **Facebook Search campaigns** closely follow with a **CTR of 11.14%**, indicating that users searching for products are more likely to engage.\n",
    "- **Google Ads Search campaigns** also perform well with a **CTR of 10.92%**, suggesting it’s worth considering for driving traffic.\n",
    "\n",
    "These findings suggest prioritizing **Email on Instagram** and **Search campaigns on Facebook and Google Ads** to maximize engagement and effectively allocate budget.\n"
   ]
  },
  {
   "cell_type": "markdown",
   "metadata": {},
   "source": [
    "### 2. How does ROI vary across high-performing channels and campaign types, and what insights can be drawn regarding the effectiveness of these marketing strategies?"
   ]
  },
  {
   "cell_type": "code",
   "execution_count": 103,
   "metadata": {},
   "outputs": [],
   "source": [
    "# Filter the dataset for high-performing channels and campaign types\n",
    "high_performing_campaigns = ['Instagram', 'Facebook', 'Google Ads']\n",
    "high_performing_types = ['Email', 'Search','Display']\n",
    "\n",
    "filtered_data = df[\n",
    "    (df['Channel_Used'].isin(high_performing_campaigns)) & \n",
    "    (df['Campaign_Type'].isin(high_performing_types))\n",
    "]\n",
    "\n",
    "# Calculate ROI for the filtered data\n",
    "roi_analysis = filtered_data[['Channel_Used', 'Campaign_Type', 'ROI']]\n",
    "\n",
    "# Group by Channel and Campaign Type, and calculate the mean ROI\n",
    "roi_summary = roi_analysis.groupby(['Channel_Used', 'Campaign_Type']).mean().reset_index()\n",
    "\n",
    "# Display the summary\n",
    "#roi_summary\n"
   ]
  },
  {
   "cell_type": "code",
   "execution_count": 104,
   "metadata": {},
   "outputs": [
    {
     "data": {
      "application/vnd.plotly.v1+json": {
       "config": {
        "plotlyServerURL": "https://plot.ly"
       },
       "data": [
        {
         "alignmentgroup": "True",
         "hovertemplate": "Campaign_Type=Email<br>ROI=%{x}<br>Channel_Used=%{y}<br>text=%{text}<extra></extra>",
         "legendgroup": "Email",
         "marker": {
          "color": "rgb(136, 204, 238)",
          "pattern": {
           "shape": ""
          }
         },
         "name": "Email",
         "offsetgroup": "Email",
         "orientation": "h",
         "showlegend": true,
         "text": [
          8.04,
          8.01,
          7.71
         ],
         "textposition": "outside",
         "texttemplate": "%{text:.2f}",
         "type": "bar",
         "x": [
          8.03640461375019,
          8.013409638554217,
          7.71148602182688
         ],
         "xaxis": "x",
         "y": [
          "Facebook",
          "Instagram",
          "Google Ads"
         ],
         "yaxis": "y"
        },
        {
         "alignmentgroup": "True",
         "hovertemplate": "Campaign_Type=Search<br>ROI=%{x}<br>Channel_Used=%{y}<br>text=%{text}<extra></extra>",
         "legendgroup": "Search",
         "marker": {
          "color": "rgb(204, 102, 119)",
          "pattern": {
           "shape": ""
          }
         },
         "name": "Search",
         "offsetgroup": "Search",
         "orientation": "h",
         "showlegend": true,
         "text": [
          8,
          7.95,
          7.71
         ],
         "textposition": "outside",
         "texttemplate": "%{text:.2f}",
         "type": "bar",
         "x": [
          8.000895499383477,
          7.949177110070965,
          7.707988095238095
         ],
         "xaxis": "x",
         "y": [
          "Facebook",
          "Instagram",
          "Google Ads"
         ],
         "yaxis": "y"
        },
        {
         "alignmentgroup": "True",
         "hovertemplate": "Campaign_Type=Display<br>ROI=%{x}<br>Channel_Used=%{y}<br>text=%{text}<extra></extra>",
         "legendgroup": "Display",
         "marker": {
          "color": "rgb(221, 204, 119)",
          "pattern": {
           "shape": ""
          }
         },
         "name": "Display",
         "offsetgroup": "Display",
         "orientation": "h",
         "showlegend": true,
         "text": [
          7.34,
          7.26,
          7.01
         ],
         "textposition": "outside",
         "texttemplate": "%{text:.2f}",
         "type": "bar",
         "x": [
          7.338452021726011,
          7.261203152885187,
          7.010065250379363
         ],
         "xaxis": "x",
         "y": [
          "Facebook",
          "Instagram",
          "Google Ads"
         ],
         "yaxis": "y"
        }
       ],
       "layout": {
        "bargap": 0.2,
        "barmode": "relative",
        "legend": {
         "title": {
          "text": "Campaign Type"
         },
         "tracegroupgap": 0
        },
        "margin": {
         "t": 60
        },
        "plot_bgcolor": "rgba(0,0,0,0)",
        "template": {
         "data": {
          "bar": [
           {
            "error_x": {
             "color": "#2a3f5f"
            },
            "error_y": {
             "color": "#2a3f5f"
            },
            "marker": {
             "line": {
              "color": "#E5ECF6",
              "width": 0.5
             },
             "pattern": {
              "fillmode": "overlay",
              "size": 10,
              "solidity": 0.2
             }
            },
            "type": "bar"
           }
          ],
          "barpolar": [
           {
            "marker": {
             "line": {
              "color": "#E5ECF6",
              "width": 0.5
             },
             "pattern": {
              "fillmode": "overlay",
              "size": 10,
              "solidity": 0.2
             }
            },
            "type": "barpolar"
           }
          ],
          "carpet": [
           {
            "aaxis": {
             "endlinecolor": "#2a3f5f",
             "gridcolor": "white",
             "linecolor": "white",
             "minorgridcolor": "white",
             "startlinecolor": "#2a3f5f"
            },
            "baxis": {
             "endlinecolor": "#2a3f5f",
             "gridcolor": "white",
             "linecolor": "white",
             "minorgridcolor": "white",
             "startlinecolor": "#2a3f5f"
            },
            "type": "carpet"
           }
          ],
          "choropleth": [
           {
            "colorbar": {
             "outlinewidth": 0,
             "ticks": ""
            },
            "type": "choropleth"
           }
          ],
          "contour": [
           {
            "colorbar": {
             "outlinewidth": 0,
             "ticks": ""
            },
            "colorscale": [
             [
              0,
              "#0d0887"
             ],
             [
              0.1111111111111111,
              "#46039f"
             ],
             [
              0.2222222222222222,
              "#7201a8"
             ],
             [
              0.3333333333333333,
              "#9c179e"
             ],
             [
              0.4444444444444444,
              "#bd3786"
             ],
             [
              0.5555555555555556,
              "#d8576b"
             ],
             [
              0.6666666666666666,
              "#ed7953"
             ],
             [
              0.7777777777777778,
              "#fb9f3a"
             ],
             [
              0.8888888888888888,
              "#fdca26"
             ],
             [
              1,
              "#f0f921"
             ]
            ],
            "type": "contour"
           }
          ],
          "contourcarpet": [
           {
            "colorbar": {
             "outlinewidth": 0,
             "ticks": ""
            },
            "type": "contourcarpet"
           }
          ],
          "heatmap": [
           {
            "colorbar": {
             "outlinewidth": 0,
             "ticks": ""
            },
            "colorscale": [
             [
              0,
              "#0d0887"
             ],
             [
              0.1111111111111111,
              "#46039f"
             ],
             [
              0.2222222222222222,
              "#7201a8"
             ],
             [
              0.3333333333333333,
              "#9c179e"
             ],
             [
              0.4444444444444444,
              "#bd3786"
             ],
             [
              0.5555555555555556,
              "#d8576b"
             ],
             [
              0.6666666666666666,
              "#ed7953"
             ],
             [
              0.7777777777777778,
              "#fb9f3a"
             ],
             [
              0.8888888888888888,
              "#fdca26"
             ],
             [
              1,
              "#f0f921"
             ]
            ],
            "type": "heatmap"
           }
          ],
          "heatmapgl": [
           {
            "colorbar": {
             "outlinewidth": 0,
             "ticks": ""
            },
            "colorscale": [
             [
              0,
              "#0d0887"
             ],
             [
              0.1111111111111111,
              "#46039f"
             ],
             [
              0.2222222222222222,
              "#7201a8"
             ],
             [
              0.3333333333333333,
              "#9c179e"
             ],
             [
              0.4444444444444444,
              "#bd3786"
             ],
             [
              0.5555555555555556,
              "#d8576b"
             ],
             [
              0.6666666666666666,
              "#ed7953"
             ],
             [
              0.7777777777777778,
              "#fb9f3a"
             ],
             [
              0.8888888888888888,
              "#fdca26"
             ],
             [
              1,
              "#f0f921"
             ]
            ],
            "type": "heatmapgl"
           }
          ],
          "histogram": [
           {
            "marker": {
             "pattern": {
              "fillmode": "overlay",
              "size": 10,
              "solidity": 0.2
             }
            },
            "type": "histogram"
           }
          ],
          "histogram2d": [
           {
            "colorbar": {
             "outlinewidth": 0,
             "ticks": ""
            },
            "colorscale": [
             [
              0,
              "#0d0887"
             ],
             [
              0.1111111111111111,
              "#46039f"
             ],
             [
              0.2222222222222222,
              "#7201a8"
             ],
             [
              0.3333333333333333,
              "#9c179e"
             ],
             [
              0.4444444444444444,
              "#bd3786"
             ],
             [
              0.5555555555555556,
              "#d8576b"
             ],
             [
              0.6666666666666666,
              "#ed7953"
             ],
             [
              0.7777777777777778,
              "#fb9f3a"
             ],
             [
              0.8888888888888888,
              "#fdca26"
             ],
             [
              1,
              "#f0f921"
             ]
            ],
            "type": "histogram2d"
           }
          ],
          "histogram2dcontour": [
           {
            "colorbar": {
             "outlinewidth": 0,
             "ticks": ""
            },
            "colorscale": [
             [
              0,
              "#0d0887"
             ],
             [
              0.1111111111111111,
              "#46039f"
             ],
             [
              0.2222222222222222,
              "#7201a8"
             ],
             [
              0.3333333333333333,
              "#9c179e"
             ],
             [
              0.4444444444444444,
              "#bd3786"
             ],
             [
              0.5555555555555556,
              "#d8576b"
             ],
             [
              0.6666666666666666,
              "#ed7953"
             ],
             [
              0.7777777777777778,
              "#fb9f3a"
             ],
             [
              0.8888888888888888,
              "#fdca26"
             ],
             [
              1,
              "#f0f921"
             ]
            ],
            "type": "histogram2dcontour"
           }
          ],
          "mesh3d": [
           {
            "colorbar": {
             "outlinewidth": 0,
             "ticks": ""
            },
            "type": "mesh3d"
           }
          ],
          "parcoords": [
           {
            "line": {
             "colorbar": {
              "outlinewidth": 0,
              "ticks": ""
             }
            },
            "type": "parcoords"
           }
          ],
          "pie": [
           {
            "automargin": true,
            "type": "pie"
           }
          ],
          "scatter": [
           {
            "fillpattern": {
             "fillmode": "overlay",
             "size": 10,
             "solidity": 0.2
            },
            "type": "scatter"
           }
          ],
          "scatter3d": [
           {
            "line": {
             "colorbar": {
              "outlinewidth": 0,
              "ticks": ""
             }
            },
            "marker": {
             "colorbar": {
              "outlinewidth": 0,
              "ticks": ""
             }
            },
            "type": "scatter3d"
           }
          ],
          "scattercarpet": [
           {
            "marker": {
             "colorbar": {
              "outlinewidth": 0,
              "ticks": ""
             }
            },
            "type": "scattercarpet"
           }
          ],
          "scattergeo": [
           {
            "marker": {
             "colorbar": {
              "outlinewidth": 0,
              "ticks": ""
             }
            },
            "type": "scattergeo"
           }
          ],
          "scattergl": [
           {
            "marker": {
             "colorbar": {
              "outlinewidth": 0,
              "ticks": ""
             }
            },
            "type": "scattergl"
           }
          ],
          "scattermapbox": [
           {
            "marker": {
             "colorbar": {
              "outlinewidth": 0,
              "ticks": ""
             }
            },
            "type": "scattermapbox"
           }
          ],
          "scatterpolar": [
           {
            "marker": {
             "colorbar": {
              "outlinewidth": 0,
              "ticks": ""
             }
            },
            "type": "scatterpolar"
           }
          ],
          "scatterpolargl": [
           {
            "marker": {
             "colorbar": {
              "outlinewidth": 0,
              "ticks": ""
             }
            },
            "type": "scatterpolargl"
           }
          ],
          "scatterternary": [
           {
            "marker": {
             "colorbar": {
              "outlinewidth": 0,
              "ticks": ""
             }
            },
            "type": "scatterternary"
           }
          ],
          "surface": [
           {
            "colorbar": {
             "outlinewidth": 0,
             "ticks": ""
            },
            "colorscale": [
             [
              0,
              "#0d0887"
             ],
             [
              0.1111111111111111,
              "#46039f"
             ],
             [
              0.2222222222222222,
              "#7201a8"
             ],
             [
              0.3333333333333333,
              "#9c179e"
             ],
             [
              0.4444444444444444,
              "#bd3786"
             ],
             [
              0.5555555555555556,
              "#d8576b"
             ],
             [
              0.6666666666666666,
              "#ed7953"
             ],
             [
              0.7777777777777778,
              "#fb9f3a"
             ],
             [
              0.8888888888888888,
              "#fdca26"
             ],
             [
              1,
              "#f0f921"
             ]
            ],
            "type": "surface"
           }
          ],
          "table": [
           {
            "cells": {
             "fill": {
              "color": "#EBF0F8"
             },
             "line": {
              "color": "white"
             }
            },
            "header": {
             "fill": {
              "color": "#C8D4E3"
             },
             "line": {
              "color": "white"
             }
            },
            "type": "table"
           }
          ]
         },
         "layout": {
          "annotationdefaults": {
           "arrowcolor": "#2a3f5f",
           "arrowhead": 0,
           "arrowwidth": 1
          },
          "autotypenumbers": "strict",
          "coloraxis": {
           "colorbar": {
            "outlinewidth": 0,
            "ticks": ""
           }
          },
          "colorscale": {
           "diverging": [
            [
             0,
             "#8e0152"
            ],
            [
             0.1,
             "#c51b7d"
            ],
            [
             0.2,
             "#de77ae"
            ],
            [
             0.3,
             "#f1b6da"
            ],
            [
             0.4,
             "#fde0ef"
            ],
            [
             0.5,
             "#f7f7f7"
            ],
            [
             0.6,
             "#e6f5d0"
            ],
            [
             0.7,
             "#b8e186"
            ],
            [
             0.8,
             "#7fbc41"
            ],
            [
             0.9,
             "#4d9221"
            ],
            [
             1,
             "#276419"
            ]
           ],
           "sequential": [
            [
             0,
             "#0d0887"
            ],
            [
             0.1111111111111111,
             "#46039f"
            ],
            [
             0.2222222222222222,
             "#7201a8"
            ],
            [
             0.3333333333333333,
             "#9c179e"
            ],
            [
             0.4444444444444444,
             "#bd3786"
            ],
            [
             0.5555555555555556,
             "#d8576b"
            ],
            [
             0.6666666666666666,
             "#ed7953"
            ],
            [
             0.7777777777777778,
             "#fb9f3a"
            ],
            [
             0.8888888888888888,
             "#fdca26"
            ],
            [
             1,
             "#f0f921"
            ]
           ],
           "sequentialminus": [
            [
             0,
             "#0d0887"
            ],
            [
             0.1111111111111111,
             "#46039f"
            ],
            [
             0.2222222222222222,
             "#7201a8"
            ],
            [
             0.3333333333333333,
             "#9c179e"
            ],
            [
             0.4444444444444444,
             "#bd3786"
            ],
            [
             0.5555555555555556,
             "#d8576b"
            ],
            [
             0.6666666666666666,
             "#ed7953"
            ],
            [
             0.7777777777777778,
             "#fb9f3a"
            ],
            [
             0.8888888888888888,
             "#fdca26"
            ],
            [
             1,
             "#f0f921"
            ]
           ]
          },
          "colorway": [
           "#636efa",
           "#EF553B",
           "#00cc96",
           "#ab63fa",
           "#FFA15A",
           "#19d3f3",
           "#FF6692",
           "#B6E880",
           "#FF97FF",
           "#FECB52"
          ],
          "font": {
           "color": "#2a3f5f"
          },
          "geo": {
           "bgcolor": "white",
           "lakecolor": "white",
           "landcolor": "#E5ECF6",
           "showlakes": true,
           "showland": true,
           "subunitcolor": "white"
          },
          "hoverlabel": {
           "align": "left"
          },
          "hovermode": "closest",
          "mapbox": {
           "style": "light"
          },
          "paper_bgcolor": "white",
          "plot_bgcolor": "#E5ECF6",
          "polar": {
           "angularaxis": {
            "gridcolor": "white",
            "linecolor": "white",
            "ticks": ""
           },
           "bgcolor": "#E5ECF6",
           "radialaxis": {
            "gridcolor": "white",
            "linecolor": "white",
            "ticks": ""
           }
          },
          "scene": {
           "xaxis": {
            "backgroundcolor": "#E5ECF6",
            "gridcolor": "white",
            "gridwidth": 2,
            "linecolor": "white",
            "showbackground": true,
            "ticks": "",
            "zerolinecolor": "white"
           },
           "yaxis": {
            "backgroundcolor": "#E5ECF6",
            "gridcolor": "white",
            "gridwidth": 2,
            "linecolor": "white",
            "showbackground": true,
            "ticks": "",
            "zerolinecolor": "white"
           },
           "zaxis": {
            "backgroundcolor": "#E5ECF6",
            "gridcolor": "white",
            "gridwidth": 2,
            "linecolor": "white",
            "showbackground": true,
            "ticks": "",
            "zerolinecolor": "white"
           }
          },
          "shapedefaults": {
           "line": {
            "color": "#2a3f5f"
           }
          },
          "ternary": {
           "aaxis": {
            "gridcolor": "white",
            "linecolor": "white",
            "ticks": ""
           },
           "baxis": {
            "gridcolor": "white",
            "linecolor": "white",
            "ticks": ""
           },
           "bgcolor": "#E5ECF6",
           "caxis": {
            "gridcolor": "white",
            "linecolor": "white",
            "ticks": ""
           }
          },
          "title": {
           "x": 0.05
          },
          "xaxis": {
           "automargin": true,
           "gridcolor": "white",
           "linecolor": "white",
           "ticks": "",
           "title": {
            "standoff": 15
           },
           "zerolinecolor": "white",
           "zerolinewidth": 2
          },
          "yaxis": {
           "automargin": true,
           "gridcolor": "white",
           "linecolor": "white",
           "ticks": "",
           "title": {
            "standoff": 15
           },
           "zerolinecolor": "white",
           "zerolinewidth": 2
          }
         }
        },
        "title": {
         "text": "ROI by Channel and Campaign Type for Men 18-24",
         "x": 0.5
        },
        "xaxis": {
         "anchor": "y",
         "domain": [
          0,
          1
         ],
         "title": {
          "text": "ROI (%)"
         }
        },
        "yaxis": {
         "anchor": "x",
         "domain": [
          0,
          1
         ],
         "title": {
          "text": "Channel"
         }
        }
       }
      }
     },
     "metadata": {},
     "output_type": "display_data"
    }
   ],
   "source": [
    "# Sort the data for better visualization\n",
    "roi_summary_sorted = roi_summary.sort_values(by='ROI', ascending=False)\n",
    "\n",
    "# Create a bar plot using Plotly Express\n",
    "fig = px.bar(\n",
    "    roi_summary_sorted,\n",
    "    x='ROI',\n",
    "    y='Channel_Used',\n",
    "    color='Campaign_Type',\n",
    "    orientation='h',\n",
    "    text=roi_summary_sorted['ROI'].round(2),  # Display ROI with 2 decimal points\n",
    "    color_discrete_sequence=px.colors.qualitative.Safe  # Use the professional color scheme\n",
    ")\n",
    "\n",
    "# Customize the layout for a professional look\n",
    "fig.update_layout(\n",
    "    title='ROI by Channel and Campaign Type for Men 18-24',\n",
    "    xaxis_title='ROI (%)',\n",
    "    yaxis_title='Channel',\n",
    "    plot_bgcolor='rgba(0,0,0,0)',  # Transparent background for a cleaner look\n",
    "    legend_title=\"Campaign Type\",\n",
    "    title_x=0.5,  # Center the title\n",
    "    bargap=0.2,  # Gap between bar groups\n",
    ")\n",
    "\n",
    "# Format the text on bars (ROI values) to be 2 decimal places\n",
    "fig.update_traces(texttemplate='%{text:.2f}', textposition='outside')\n",
    "\n",
    "# Show the figure\n",
    "fig.show()"
   ]
  },
  {
   "cell_type": "markdown",
   "metadata": {},
   "source": [
    "#### For the 'Classic Men's Jeans' campaign targeting men aged 18-24:\n",
    "\n",
    "- **Facebook Email campaigns** lead with an **ROI of 8.04**, indicating a strong return on investment, making it a priority for budget allocation.\n",
    "- **Instagram Email campaigns** follow closely with an **ROI of 8.01**, suggesting that engaging users through this channel is also highly effective.\n",
    "- **Facebook Search campaigns** yield an **ROI of 8.00**, reinforcing the importance of search-driven strategies.\n",
    "\n",
    "These insights emphasize the effectiveness of **email campaigns on both Facebook and Instagram**, suggesting that investing in these channels could maximize returns. \n"
   ]
  },
  {
   "cell_type": "markdown",
   "metadata": {},
   "source": [
    "### 3. How do acquisition costs vary across the high-performing channels and campaign types, and what is their relationship with ROI"
   ]
  },
  {
   "cell_type": "code",
   "execution_count": 105,
   "metadata": {},
   "outputs": [],
   "source": [
    "demographic_filter = df['Target_Audience'] == 'Men 18-24'\n",
    "\n",
    "# Define high-performing channels and campaign types\n",
    "high_performing_channels_campaigns = [\n",
    "    ('Facebook', 'Email'),\n",
    "    ('Instagram', 'Email'),\n",
    "    ('Facebook', 'Search'),\n",
    "    ('Google Ads', 'Search')\n",
    "]\n",
    "\n",
    "# Filter the DataFrame for demographic and high-performing channels/campaign types\n",
    "high_performing_df = df[demographic_filter & df[['Channel_Used', 'Campaign_Type']].apply(tuple, axis=1).isin(high_performing_channels_campaigns)]\n",
    "\n",
    "# Calculate average Acquisition Cost and ROI\n",
    "acquisition_roi_summary = high_performing_df.groupby(['Channel_Used', 'Campaign_Type']).agg(\n",
    "    Average_Acquisition_Cost=('Acquisition_Cost', 'mean'),\n",
    "    Average_ROI=('ROI', 'mean')\n",
    ").reset_index()\n",
    "\n",
    "# Display the summary\n",
    "#print(acquisition_roi_summary)"
   ]
  },
  {
   "cell_type": "code",
   "execution_count": 106,
   "metadata": {},
   "outputs": [
    {
     "data": {
      "application/vnd.plotly.v1+json": {
       "config": {
        "plotlyServerURL": "https://plot.ly"
       },
       "data": [
        {
         "hovertemplate": "<b>%{hovertext}</b><br><br>Channel_Campaign=Facebook - Email<br>Average Acquisition Cost=%{marker.size}<br>Average ROI=%{y}<extra></extra>",
         "hovertext": [
          "Facebook - Email"
         ],
         "legendgroup": "Facebook - Email",
         "marker": {
          "color": "#636efa",
          "size": [
           19408.629775617053
          ],
          "sizemode": "area",
          "sizeref": 49.36614534368071,
          "symbol": "circle"
         },
         "mode": "markers",
         "name": "Facebook - Email",
         "orientation": "v",
         "showlegend": true,
         "type": "scatter",
         "x": [
          19408.629775617053
         ],
         "xaxis": "x",
         "y": [
          7.940807778608826
         ],
         "yaxis": "y"
        },
        {
         "hovertemplate": "<b>%{hovertext}</b><br><br>Channel_Campaign=Facebook - Search<br>Average Acquisition Cost=%{marker.size}<br>Average ROI=%{y}<extra></extra>",
         "hovertext": [
          "Facebook - Search"
         ],
         "legendgroup": "Facebook - Search",
         "marker": {
          "color": "#EF553B",
          "size": [
           19746.458137472284
          ],
          "sizemode": "area",
          "sizeref": 49.36614534368071,
          "symbol": "circle"
         },
         "mode": "markers",
         "name": "Facebook - Search",
         "orientation": "v",
         "showlegend": true,
         "type": "scatter",
         "x": [
          19746.458137472284
         ],
         "xaxis": "x",
         "y": [
          7.833909830007391
         ],
         "yaxis": "y"
        },
        {
         "hovertemplate": "<b>%{hovertext}</b><br><br>Channel_Campaign=Google Ads - Search<br>Average Acquisition Cost=%{marker.size}<br>Average ROI=%{y}<extra></extra>",
         "hovertext": [
          "Google Ads - Search"
         ],
         "legendgroup": "Google Ads - Search",
         "marker": {
          "color": "#00cc96",
          "size": [
           19046.934046898637
          ],
          "sizemode": "area",
          "sizeref": 49.36614534368071,
          "symbol": "circle"
         },
         "mode": "markers",
         "name": "Google Ads - Search",
         "orientation": "v",
         "showlegend": true,
         "type": "scatter",
         "x": [
          19046.934046898637
         ],
         "xaxis": "x",
         "y": [
          7.596021180030258
         ],
         "yaxis": "y"
        },
        {
         "hovertemplate": "<b>%{hovertext}</b><br><br>Channel_Campaign=Instagram - Email<br>Average Acquisition Cost=%{marker.size}<br>Average ROI=%{y}<extra></extra>",
         "hovertext": [
          "Instagram - Email"
         ],
         "legendgroup": "Instagram - Email",
         "marker": {
          "color": "#ab63fa",
          "size": [
           19261.726635311144
          ],
          "sizemode": "area",
          "sizeref": 49.36614534368071,
          "symbol": "circle"
         },
         "mode": "markers",
         "name": "Instagram - Email",
         "orientation": "v",
         "showlegend": true,
         "type": "scatter",
         "x": [
          19261.726635311144
         ],
         "xaxis": "x",
         "y": [
          7.87286541244573
         ],
         "yaxis": "y"
        }
       ],
       "layout": {
        "legend": {
         "itemsizing": "constant",
         "title": {
          "text": "Channel_Campaign"
         },
         "tracegroupgap": 0
        },
        "template": {
         "data": {
          "bar": [
           {
            "error_x": {
             "color": "#2a3f5f"
            },
            "error_y": {
             "color": "#2a3f5f"
            },
            "marker": {
             "line": {
              "color": "white",
              "width": 0.5
             },
             "pattern": {
              "fillmode": "overlay",
              "size": 10,
              "solidity": 0.2
             }
            },
            "type": "bar"
           }
          ],
          "barpolar": [
           {
            "marker": {
             "line": {
              "color": "white",
              "width": 0.5
             },
             "pattern": {
              "fillmode": "overlay",
              "size": 10,
              "solidity": 0.2
             }
            },
            "type": "barpolar"
           }
          ],
          "carpet": [
           {
            "aaxis": {
             "endlinecolor": "#2a3f5f",
             "gridcolor": "#C8D4E3",
             "linecolor": "#C8D4E3",
             "minorgridcolor": "#C8D4E3",
             "startlinecolor": "#2a3f5f"
            },
            "baxis": {
             "endlinecolor": "#2a3f5f",
             "gridcolor": "#C8D4E3",
             "linecolor": "#C8D4E3",
             "minorgridcolor": "#C8D4E3",
             "startlinecolor": "#2a3f5f"
            },
            "type": "carpet"
           }
          ],
          "choropleth": [
           {
            "colorbar": {
             "outlinewidth": 0,
             "ticks": ""
            },
            "type": "choropleth"
           }
          ],
          "contour": [
           {
            "colorbar": {
             "outlinewidth": 0,
             "ticks": ""
            },
            "colorscale": [
             [
              0,
              "#0d0887"
             ],
             [
              0.1111111111111111,
              "#46039f"
             ],
             [
              0.2222222222222222,
              "#7201a8"
             ],
             [
              0.3333333333333333,
              "#9c179e"
             ],
             [
              0.4444444444444444,
              "#bd3786"
             ],
             [
              0.5555555555555556,
              "#d8576b"
             ],
             [
              0.6666666666666666,
              "#ed7953"
             ],
             [
              0.7777777777777778,
              "#fb9f3a"
             ],
             [
              0.8888888888888888,
              "#fdca26"
             ],
             [
              1,
              "#f0f921"
             ]
            ],
            "type": "contour"
           }
          ],
          "contourcarpet": [
           {
            "colorbar": {
             "outlinewidth": 0,
             "ticks": ""
            },
            "type": "contourcarpet"
           }
          ],
          "heatmap": [
           {
            "colorbar": {
             "outlinewidth": 0,
             "ticks": ""
            },
            "colorscale": [
             [
              0,
              "#0d0887"
             ],
             [
              0.1111111111111111,
              "#46039f"
             ],
             [
              0.2222222222222222,
              "#7201a8"
             ],
             [
              0.3333333333333333,
              "#9c179e"
             ],
             [
              0.4444444444444444,
              "#bd3786"
             ],
             [
              0.5555555555555556,
              "#d8576b"
             ],
             [
              0.6666666666666666,
              "#ed7953"
             ],
             [
              0.7777777777777778,
              "#fb9f3a"
             ],
             [
              0.8888888888888888,
              "#fdca26"
             ],
             [
              1,
              "#f0f921"
             ]
            ],
            "type": "heatmap"
           }
          ],
          "heatmapgl": [
           {
            "colorbar": {
             "outlinewidth": 0,
             "ticks": ""
            },
            "colorscale": [
             [
              0,
              "#0d0887"
             ],
             [
              0.1111111111111111,
              "#46039f"
             ],
             [
              0.2222222222222222,
              "#7201a8"
             ],
             [
              0.3333333333333333,
              "#9c179e"
             ],
             [
              0.4444444444444444,
              "#bd3786"
             ],
             [
              0.5555555555555556,
              "#d8576b"
             ],
             [
              0.6666666666666666,
              "#ed7953"
             ],
             [
              0.7777777777777778,
              "#fb9f3a"
             ],
             [
              0.8888888888888888,
              "#fdca26"
             ],
             [
              1,
              "#f0f921"
             ]
            ],
            "type": "heatmapgl"
           }
          ],
          "histogram": [
           {
            "marker": {
             "pattern": {
              "fillmode": "overlay",
              "size": 10,
              "solidity": 0.2
             }
            },
            "type": "histogram"
           }
          ],
          "histogram2d": [
           {
            "colorbar": {
             "outlinewidth": 0,
             "ticks": ""
            },
            "colorscale": [
             [
              0,
              "#0d0887"
             ],
             [
              0.1111111111111111,
              "#46039f"
             ],
             [
              0.2222222222222222,
              "#7201a8"
             ],
             [
              0.3333333333333333,
              "#9c179e"
             ],
             [
              0.4444444444444444,
              "#bd3786"
             ],
             [
              0.5555555555555556,
              "#d8576b"
             ],
             [
              0.6666666666666666,
              "#ed7953"
             ],
             [
              0.7777777777777778,
              "#fb9f3a"
             ],
             [
              0.8888888888888888,
              "#fdca26"
             ],
             [
              1,
              "#f0f921"
             ]
            ],
            "type": "histogram2d"
           }
          ],
          "histogram2dcontour": [
           {
            "colorbar": {
             "outlinewidth": 0,
             "ticks": ""
            },
            "colorscale": [
             [
              0,
              "#0d0887"
             ],
             [
              0.1111111111111111,
              "#46039f"
             ],
             [
              0.2222222222222222,
              "#7201a8"
             ],
             [
              0.3333333333333333,
              "#9c179e"
             ],
             [
              0.4444444444444444,
              "#bd3786"
             ],
             [
              0.5555555555555556,
              "#d8576b"
             ],
             [
              0.6666666666666666,
              "#ed7953"
             ],
             [
              0.7777777777777778,
              "#fb9f3a"
             ],
             [
              0.8888888888888888,
              "#fdca26"
             ],
             [
              1,
              "#f0f921"
             ]
            ],
            "type": "histogram2dcontour"
           }
          ],
          "mesh3d": [
           {
            "colorbar": {
             "outlinewidth": 0,
             "ticks": ""
            },
            "type": "mesh3d"
           }
          ],
          "parcoords": [
           {
            "line": {
             "colorbar": {
              "outlinewidth": 0,
              "ticks": ""
             }
            },
            "type": "parcoords"
           }
          ],
          "pie": [
           {
            "automargin": true,
            "type": "pie"
           }
          ],
          "scatter": [
           {
            "fillpattern": {
             "fillmode": "overlay",
             "size": 10,
             "solidity": 0.2
            },
            "type": "scatter"
           }
          ],
          "scatter3d": [
           {
            "line": {
             "colorbar": {
              "outlinewidth": 0,
              "ticks": ""
             }
            },
            "marker": {
             "colorbar": {
              "outlinewidth": 0,
              "ticks": ""
             }
            },
            "type": "scatter3d"
           }
          ],
          "scattercarpet": [
           {
            "marker": {
             "colorbar": {
              "outlinewidth": 0,
              "ticks": ""
             }
            },
            "type": "scattercarpet"
           }
          ],
          "scattergeo": [
           {
            "marker": {
             "colorbar": {
              "outlinewidth": 0,
              "ticks": ""
             }
            },
            "type": "scattergeo"
           }
          ],
          "scattergl": [
           {
            "marker": {
             "colorbar": {
              "outlinewidth": 0,
              "ticks": ""
             }
            },
            "type": "scattergl"
           }
          ],
          "scattermapbox": [
           {
            "marker": {
             "colorbar": {
              "outlinewidth": 0,
              "ticks": ""
             }
            },
            "type": "scattermapbox"
           }
          ],
          "scatterpolar": [
           {
            "marker": {
             "colorbar": {
              "outlinewidth": 0,
              "ticks": ""
             }
            },
            "type": "scatterpolar"
           }
          ],
          "scatterpolargl": [
           {
            "marker": {
             "colorbar": {
              "outlinewidth": 0,
              "ticks": ""
             }
            },
            "type": "scatterpolargl"
           }
          ],
          "scatterternary": [
           {
            "marker": {
             "colorbar": {
              "outlinewidth": 0,
              "ticks": ""
             }
            },
            "type": "scatterternary"
           }
          ],
          "surface": [
           {
            "colorbar": {
             "outlinewidth": 0,
             "ticks": ""
            },
            "colorscale": [
             [
              0,
              "#0d0887"
             ],
             [
              0.1111111111111111,
              "#46039f"
             ],
             [
              0.2222222222222222,
              "#7201a8"
             ],
             [
              0.3333333333333333,
              "#9c179e"
             ],
             [
              0.4444444444444444,
              "#bd3786"
             ],
             [
              0.5555555555555556,
              "#d8576b"
             ],
             [
              0.6666666666666666,
              "#ed7953"
             ],
             [
              0.7777777777777778,
              "#fb9f3a"
             ],
             [
              0.8888888888888888,
              "#fdca26"
             ],
             [
              1,
              "#f0f921"
             ]
            ],
            "type": "surface"
           }
          ],
          "table": [
           {
            "cells": {
             "fill": {
              "color": "#EBF0F8"
             },
             "line": {
              "color": "white"
             }
            },
            "header": {
             "fill": {
              "color": "#C8D4E3"
             },
             "line": {
              "color": "white"
             }
            },
            "type": "table"
           }
          ]
         },
         "layout": {
          "annotationdefaults": {
           "arrowcolor": "#2a3f5f",
           "arrowhead": 0,
           "arrowwidth": 1
          },
          "autotypenumbers": "strict",
          "coloraxis": {
           "colorbar": {
            "outlinewidth": 0,
            "ticks": ""
           }
          },
          "colorscale": {
           "diverging": [
            [
             0,
             "#8e0152"
            ],
            [
             0.1,
             "#c51b7d"
            ],
            [
             0.2,
             "#de77ae"
            ],
            [
             0.3,
             "#f1b6da"
            ],
            [
             0.4,
             "#fde0ef"
            ],
            [
             0.5,
             "#f7f7f7"
            ],
            [
             0.6,
             "#e6f5d0"
            ],
            [
             0.7,
             "#b8e186"
            ],
            [
             0.8,
             "#7fbc41"
            ],
            [
             0.9,
             "#4d9221"
            ],
            [
             1,
             "#276419"
            ]
           ],
           "sequential": [
            [
             0,
             "#0d0887"
            ],
            [
             0.1111111111111111,
             "#46039f"
            ],
            [
             0.2222222222222222,
             "#7201a8"
            ],
            [
             0.3333333333333333,
             "#9c179e"
            ],
            [
             0.4444444444444444,
             "#bd3786"
            ],
            [
             0.5555555555555556,
             "#d8576b"
            ],
            [
             0.6666666666666666,
             "#ed7953"
            ],
            [
             0.7777777777777778,
             "#fb9f3a"
            ],
            [
             0.8888888888888888,
             "#fdca26"
            ],
            [
             1,
             "#f0f921"
            ]
           ],
           "sequentialminus": [
            [
             0,
             "#0d0887"
            ],
            [
             0.1111111111111111,
             "#46039f"
            ],
            [
             0.2222222222222222,
             "#7201a8"
            ],
            [
             0.3333333333333333,
             "#9c179e"
            ],
            [
             0.4444444444444444,
             "#bd3786"
            ],
            [
             0.5555555555555556,
             "#d8576b"
            ],
            [
             0.6666666666666666,
             "#ed7953"
            ],
            [
             0.7777777777777778,
             "#fb9f3a"
            ],
            [
             0.8888888888888888,
             "#fdca26"
            ],
            [
             1,
             "#f0f921"
            ]
           ]
          },
          "colorway": [
           "#636efa",
           "#EF553B",
           "#00cc96",
           "#ab63fa",
           "#FFA15A",
           "#19d3f3",
           "#FF6692",
           "#B6E880",
           "#FF97FF",
           "#FECB52"
          ],
          "font": {
           "color": "#2a3f5f"
          },
          "geo": {
           "bgcolor": "white",
           "lakecolor": "white",
           "landcolor": "white",
           "showlakes": true,
           "showland": true,
           "subunitcolor": "#C8D4E3"
          },
          "hoverlabel": {
           "align": "left"
          },
          "hovermode": "closest",
          "mapbox": {
           "style": "light"
          },
          "paper_bgcolor": "white",
          "plot_bgcolor": "white",
          "polar": {
           "angularaxis": {
            "gridcolor": "#EBF0F8",
            "linecolor": "#EBF0F8",
            "ticks": ""
           },
           "bgcolor": "white",
           "radialaxis": {
            "gridcolor": "#EBF0F8",
            "linecolor": "#EBF0F8",
            "ticks": ""
           }
          },
          "scene": {
           "xaxis": {
            "backgroundcolor": "white",
            "gridcolor": "#DFE8F3",
            "gridwidth": 2,
            "linecolor": "#EBF0F8",
            "showbackground": true,
            "ticks": "",
            "zerolinecolor": "#EBF0F8"
           },
           "yaxis": {
            "backgroundcolor": "white",
            "gridcolor": "#DFE8F3",
            "gridwidth": 2,
            "linecolor": "#EBF0F8",
            "showbackground": true,
            "ticks": "",
            "zerolinecolor": "#EBF0F8"
           },
           "zaxis": {
            "backgroundcolor": "white",
            "gridcolor": "#DFE8F3",
            "gridwidth": 2,
            "linecolor": "#EBF0F8",
            "showbackground": true,
            "ticks": "",
            "zerolinecolor": "#EBF0F8"
           }
          },
          "shapedefaults": {
           "line": {
            "color": "#2a3f5f"
           }
          },
          "ternary": {
           "aaxis": {
            "gridcolor": "#DFE8F3",
            "linecolor": "#A2B1C6",
            "ticks": ""
           },
           "baxis": {
            "gridcolor": "#DFE8F3",
            "linecolor": "#A2B1C6",
            "ticks": ""
           },
           "bgcolor": "white",
           "caxis": {
            "gridcolor": "#DFE8F3",
            "linecolor": "#A2B1C6",
            "ticks": ""
           }
          },
          "title": {
           "x": 0.05
          },
          "xaxis": {
           "automargin": true,
           "gridcolor": "#EBF0F8",
           "linecolor": "#EBF0F8",
           "ticks": "",
           "title": {
            "standoff": 15
           },
           "zerolinecolor": "#EBF0F8",
           "zerolinewidth": 2
          },
          "yaxis": {
           "automargin": true,
           "gridcolor": "#EBF0F8",
           "linecolor": "#EBF0F8",
           "ticks": "",
           "title": {
            "standoff": 15
           },
           "zerolinecolor": "#EBF0F8",
           "zerolinewidth": 2
          }
         }
        },
        "title": {
         "text": "Average Acquisition Cost vs. Average ROI for High-Performing Campaigns (Men 18-24)"
        },
        "xaxis": {
         "anchor": "y",
         "domain": [
          0,
          1
         ],
         "title": {
          "text": "Average Acquisition Cost"
         }
        },
        "yaxis": {
         "anchor": "x",
         "domain": [
          0,
          1
         ],
         "title": {
          "text": "Average ROI"
         }
        }
       }
      }
     },
     "metadata": {},
     "output_type": "display_data"
    }
   ],
   "source": [
    "# Create a combined label for Channel and Campaign Type\n",
    "acquisition_roi_summary['Channel_Campaign'] = acquisition_roi_summary['Channel_Used'] + ' - ' + acquisition_roi_summary['Campaign_Type']\n",
    "\n",
    "# Create the scatter plot using the combined label\n",
    "fig = px.scatter(\n",
    "    acquisition_roi_summary,\n",
    "    x='Average_Acquisition_Cost',\n",
    "    y='Average_ROI',\n",
    "    color='Channel_Campaign',  # Use the combined label for color\n",
    "    size='Average_Acquisition_Cost',\n",
    "    hover_name='Channel_Campaign',\n",
    "    title='Average Acquisition Cost vs. Average ROI for High-Performing Campaigns (Men 18-24)',\n",
    "    labels={'Average_Acquisition_Cost': 'Average Acquisition Cost', 'Average_ROI': 'Average ROI'},\n",
    "    template='plotly_white'\n",
    ")\n",
    "\n",
    "# Show the figure\n",
    "fig.show()\n",
    "\n"
   ]
  },
  {
   "cell_type": "markdown",
   "metadata": {},
   "source": [
    "### 4. How do conversion rates vary across different channels and campaign types, and what does this indicate about their effectiveness in driving sales?"
   ]
  },
  {
   "cell_type": "code",
   "execution_count": 107,
   "metadata": {},
   "outputs": [
    {
     "data": {
      "text/html": [
       "<div>\n",
       "<style scoped>\n",
       "    .dataframe tbody tr th:only-of-type {\n",
       "        vertical-align: middle;\n",
       "    }\n",
       "\n",
       "    .dataframe tbody tr th {\n",
       "        vertical-align: top;\n",
       "    }\n",
       "\n",
       "    .dataframe thead th {\n",
       "        text-align: right;\n",
       "    }\n",
       "</style>\n",
       "<table border=\"1\" class=\"dataframe\">\n",
       "  <thead>\n",
       "    <tr style=\"text-align: right;\">\n",
       "      <th></th>\n",
       "      <th>Channel_Used</th>\n",
       "      <th>Campaign_Type</th>\n",
       "      <th>Average_Conversion_Rate</th>\n",
       "    </tr>\n",
       "  </thead>\n",
       "  <tbody>\n",
       "    <tr>\n",
       "      <th>0</th>\n",
       "      <td>Facebook</td>\n",
       "      <td>Display</td>\n",
       "      <td>0.132826</td>\n",
       "    </tr>\n",
       "    <tr>\n",
       "      <th>1</th>\n",
       "      <td>Facebook</td>\n",
       "      <td>Email</td>\n",
       "      <td>0.142604</td>\n",
       "    </tr>\n",
       "    <tr>\n",
       "      <th>2</th>\n",
       "      <td>Facebook</td>\n",
       "      <td>Search</td>\n",
       "      <td>0.144542</td>\n",
       "    </tr>\n",
       "    <tr>\n",
       "      <th>3</th>\n",
       "      <td>Google Ads</td>\n",
       "      <td>Display</td>\n",
       "      <td>0.124642</td>\n",
       "    </tr>\n",
       "    <tr>\n",
       "      <th>4</th>\n",
       "      <td>Google Ads</td>\n",
       "      <td>Email</td>\n",
       "      <td>0.140796</td>\n",
       "    </tr>\n",
       "    <tr>\n",
       "      <th>5</th>\n",
       "      <td>Google Ads</td>\n",
       "      <td>Search</td>\n",
       "      <td>0.137135</td>\n",
       "    </tr>\n",
       "    <tr>\n",
       "      <th>6</th>\n",
       "      <td>Instagram</td>\n",
       "      <td>Display</td>\n",
       "      <td>0.128512</td>\n",
       "    </tr>\n",
       "    <tr>\n",
       "      <th>7</th>\n",
       "      <td>Instagram</td>\n",
       "      <td>Email</td>\n",
       "      <td>0.139805</td>\n",
       "    </tr>\n",
       "    <tr>\n",
       "      <th>8</th>\n",
       "      <td>Instagram</td>\n",
       "      <td>Search</td>\n",
       "      <td>0.144182</td>\n",
       "    </tr>\n",
       "  </tbody>\n",
       "</table>\n",
       "</div>"
      ],
      "text/plain": [
       "  Channel_Used Campaign_Type  Average_Conversion_Rate\n",
       "0     Facebook       Display                 0.132826\n",
       "1     Facebook         Email                 0.142604\n",
       "2     Facebook        Search                 0.144542\n",
       "3   Google Ads       Display                 0.124642\n",
       "4   Google Ads         Email                 0.140796\n",
       "5   Google Ads        Search                 0.137135\n",
       "6    Instagram       Display                 0.128512\n",
       "7    Instagram         Email                 0.139805\n",
       "8    Instagram        Search                 0.144182"
      ]
     },
     "execution_count": 107,
     "metadata": {},
     "output_type": "execute_result"
    }
   ],
   "source": [
    "high_performing_channels = ['Facebook', 'Instagram', 'Google Ads']\n",
    "high_performing_campaign_types = ['Email', 'Search', 'Display']\n",
    "\n",
    "# Filter the original dataset for men aged 18-24 and the high-performing campaigns\n",
    "filtered_data = df[\n",
    "    (df['Channel_Used'].isin(high_performing_channels)) &\n",
    "    (df['Campaign_Type'].isin(high_performing_campaign_types)) &\n",
    "    (df['Target_Audience'] == 'Men 18-24')\n",
    "]\n",
    "\n",
    "# Group by Channel and Campaign Type to find average Conversion Rate\n",
    "conversion_rate_analysis = filtered_data.groupby(['Channel_Used', 'Campaign_Type']).agg(\n",
    "    Average_Conversion_Rate=('Conversion_Rate', 'mean')\n",
    ").reset_index()\n",
    "\n",
    "# Display the results\n",
    "conversion_rate_analysis\n"
   ]
  },
  {
   "cell_type": "markdown",
   "metadata": {},
   "source": [
    "#### For the 'Classic Men's Jeans' campaign targeting men aged 18-24:\n",
    "\n",
    "- **Facebook Search campaigns** show the highest average conversion rate at **14.45%**, indicating that this channel is particularly effective in driving conversions.\n",
    "- **Facebook Email campaigns** closely follow with an average conversion rate of **14.26%**, suggesting a strong performance in engaging users through email.\n",
    "- **Instagram Search campaigns** also perform well, with an average conversion rate of **14.42%**, highlighting the effectiveness of search strategies on this platform.\n",
    "- Among Google Ads, **Email campaigns** have an average conversion rate of **14.08%**, making it a valuable channel for driving conversions.\n",
    "\n",
    "These findings **reiterate** the strength of **search and email campaigns**, particularly on **Facebook and Instagram**, for engaging the target audience of men aged 18-24. \n"
   ]
  },
  {
   "cell_type": "markdown",
   "metadata": {},
   "source": [
    "## Summary Of Exploratory Analysis\n",
    "\n",
    "We have identified the following high-performing campaign and channel combinations for the 'Classic Men's Jeans' campaign targeting men aged 18-24 based on our analysis of CTR, ROI, Acquisition Cost and conversion rates:\n",
    "\n",
    "1. **Facebook Email Campaigns**\n",
    "2. **Instagram Email Campaigns**\n",
    "3. **Facebook Search Campaigns**\n",
    "4. **Google Ads Search Campaigns**\n",
    "\n",
    "These combinations will be prioritized in our future marketing strategies to maximize engagement and ROI.\n",
    "\n",
    "\n",
    "\n",
    "\n",
    "\n"
   ]
  },
  {
   "cell_type": "markdown",
   "metadata": {},
   "source": [
    "## Business Questions"
   ]
  },
  {
   "cell_type": "markdown",
   "metadata": {},
   "source": [
    "### 1. How can we optimize our budget allocation across these high-performing campaigns to maximize ROI?"
   ]
  },
  {
   "cell_type": "code",
   "execution_count": 108,
   "metadata": {},
   "outputs": [],
   "source": [
    "# Filter the dataset for men aged 18-24 and the specific four high-performing campaigns\n",
    "filtered_df = df[\n",
    "    (df['Target_Audience'] == 'Men 18-24') &\n",
    "    (\n",
    "        (df['Channel_Used'] == 'Facebook') & (df['Campaign_Type'].isin(['Email', 'Search'])) |\n",
    "        (df['Channel_Used'] == 'Instagram') & (df['Campaign_Type'] == 'Email') |\n",
    "        (df['Channel_Used'] == 'Google Ads') & (df['Campaign_Type'] == 'Search')\n",
    "    )\n",
    "]\n",
    "\n",
    "# Aggregate relevant metrics\n",
    "aggregated_metrics_df = filtered_df.groupby(['Channel_Used', 'Campaign_Type']).agg(\n",
    "    total_amount_spent=('total_amount_spent', 'sum'),\n",
    "    average_ROI=('ROI', 'mean'),\n",
    "    average_Conversion_Rate=('Conversion_Rate', 'mean'),\n",
    "    total_customers_converted=('total_customers_converted', 'sum'),\n",
    "    average_acquisition_cost=('Acquisition_Cost', 'mean')\n",
    ").reset_index()\n",
    "\n",
    "# Display the aggregated metrics\n",
    "#aggregated_metrics_df"
   ]
  },
  {
   "cell_type": "code",
   "execution_count": 109,
   "metadata": {},
   "outputs": [],
   "source": [
    "# Total budget available\n",
    "total_budget = 5000\n",
    "\n",
    "# Calculate the proportion of ROI for each campaign\n",
    "aggregated_metrics_df['ROI_Proportion'] = aggregated_metrics_df['average_ROI'] / aggregated_metrics_df['average_ROI'].sum()\n",
    "\n",
    "# Allocate the budget based on the ROI proportion\n",
    "aggregated_metrics_df['Budget_Allocation'] = aggregated_metrics_df['ROI_Proportion'] * total_budget\n",
    "\n",
    "# Print the results\n",
    "allocation_result = aggregated_metrics_df[['Channel_Used', 'Campaign_Type', 'Budget_Allocation','average_acquisition_cost','average_ROI']]\n",
    "#allocation_result"
   ]
  },
  {
   "cell_type": "code",
   "execution_count": 110,
   "metadata": {},
   "outputs": [
    {
     "data": {
      "image/png": "[encoded data removed]",
      "text/plain": [
       "<Figure size 1000x700 with 1 Axes>"
      ]
     },
     "metadata": {},
     "output_type": "display_data"
    }
   ],
   "source": [
    "# Prepare data for pie chart\n",
    "allocation_result['Label'] = allocation_result['Channel_Used'] + ' ' + allocation_result['Campaign_Type'] + '\\n$' + allocation_result['Budget_Allocation'].astype(int).astype(str)\n",
    "\n",
    "# Plotting\n",
    "fig, ax = plt.subplots(figsize=(10, 7))\n",
    "\n",
    "wedges, texts, autotexts = ax.pie(allocation_result['Budget_Allocation'], \n",
    "                                  labels=allocation_result['Label'],\n",
    "                                  autopct='%1.1f%%',\n",
    "                                  startangle=140,\n",
    "                                  colors=['#ff9999','#66b3ff','#99ff99','#ffcc99'])\n",
    "\n",
    "# Center the labels inside the pie slices\n",
    "for text in texts:\n",
    "    text.set_horizontalalignment('center')\n",
    "    text.set_verticalalignment('center')\n",
    "    text.set_position((0.6 * text.get_position()[0], 0.6 * text.get_position()[1]))\n",
    "\n",
    "# Remove the percentage labels\n",
    "for autotext in autotexts:\n",
    "    autotext.set_visible(False)\n",
    "\n",
    "plt.title('Budget Allocation by Channel and Campaign Type')\n",
    "plt.axis('equal')\n",
    "\n",
    "plt.show()"
   ]
  },
  {
   "cell_type": "markdown",
   "metadata": {},
   "source": [
    "#### Key Insights:\n",
    "We analyzed the budget allocation across different marketing channels and campaign types to assess resource distribution. The pie chart illustrates the proportion of spending across these combinations, providing a clear view of which channels and campaigns received the highest investment."
   ]
  },
  {
   "cell_type": "markdown",
   "metadata": {},
   "source": [
    "### 2. For each campaign, which customer segment should we target to maximize engagement and conversion"
   ]
  },
  {
   "cell_type": "code",
   "execution_count": 111,
   "metadata": {},
   "outputs": [],
   "source": [
    "# Group by Channel, Campaign, and Customer Segment to get average Conversion Rate\n",
    "conversion_rates_summary = (\n",
    "    filtered_df.groupby(['Channel_Used', 'Campaign_Type', 'Customer_Segment'])\n",
    "    .agg({'Conversion_Rate': 'mean'})  # Calculate the average Conversion Rate\n",
    "    .reset_index()\n",
    ")\n",
    "\n",
    "# Rename the resulting DataFrame for clarity\n",
    "conversion_rates_summary.rename(columns={'Conversion_Rate': 'Average_Conversion_Rate'}, inplace=True)\n",
    "\n",
    "# Display the results\n",
    "#print(conversion_rates_summary)"
   ]
  },
  {
   "cell_type": "code",
   "execution_count": 112,
   "metadata": {},
   "outputs": [],
   "source": [
    "# Sort by Average Conversion Rate in descending order\n",
    "conversion_rates_summary.sort_values(by='Average_Conversion_Rate', ascending=False, inplace=True)\n",
    "\n",
    "# For each Channel and Campaign, select the customer segment with the highest conversion rate\n",
    "top_segments_per_campaign = conversion_rates_summary.groupby(['Channel_Used', 'Campaign_Type']).first().reset_index()\n",
    "\n",
    "# Display the top segments per campaign\n",
    "#print(top_segments_per_campaign)\n"
   ]
  },
  {
   "cell_type": "code",
   "execution_count": 113,
   "metadata": {},
   "outputs": [
    {
     "data": {
      "application/vnd.plotly.v1+json": {
       "config": {
        "plotlyServerURL": "https://plot.ly"
       },
       "data": [
        {
         "hovertemplate": "<b>%{x}</b><br>Customer Segment: %{name}<br>Conversion Rate: %{y:.2f}<extra></extra>",
         "name": "Tech Enthusiasts",
         "text": [
          0.15,
          0.15,
          0.145,
          0.137
         ],
         "textposition": "auto",
         "type": "bar",
         "x": [
          "Facebook Search",
          "Facebook Email",
          "Instagram Email",
          "Google Ads Search"
         ],
         "y": [
          0.149817843866171,
          0.14968939393939396,
          0.1451444866920152,
          0.13711029411764705
         ]
        },
        {
         "hovertemplate": "<b>%{x}</b><br>Customer Segment: %{name}<br>Conversion Rate: %{y:.2f}<extra></extra>",
         "name": "Fashionistas",
         "text": [
          0.148,
          0.148,
          0.143,
          0.142
         ],
         "textposition": "auto",
         "type": "bar",
         "x": [
          "Facebook Email",
          "Facebook Search",
          "Google Ads Search",
          "Instagram Email"
         ],
         "y": [
          0.14791447368421054,
          0.14781985294117647,
          0.14282442748091603,
          0.1420078125
         ]
        },
        {
         "hovertemplate": "<b>%{x}</b><br>Customer Segment: %{name}<br>Conversion Rate: %{y:.2f}<extra></extra>",
         "name": "Outdoor Adventurers",
         "text": [
          0.144,
          0.139,
          0.137,
          0.133
         ],
         "textposition": "auto",
         "type": "bar",
         "x": [
          "Facebook Search",
          "Facebook Email",
          "Instagram Email",
          "Google Ads Search"
         ],
         "y": [
          0.14399641577060932,
          0.13933760683760682,
          0.13668474576271186,
          0.13293869731800767
         ]
        },
        {
         "hovertemplate": "<b>%{x}</b><br>Customer Segment: %{name}<br>Conversion Rate: %{y:.2f}<extra></extra>",
         "name": "Health & Wellness",
         "text": [
          0.144,
          0.142,
          0.141,
          0.141
         ],
         "textposition": "auto",
         "type": "bar",
         "x": [
          "Google Ads Search",
          "Facebook Search",
          "Instagram Email",
          "Facebook Email"
         ],
         "y": [
          0.1436551724137931,
          0.14223021582733814,
          0.1412655172413793,
          0.14125735294117647
         ]
        },
        {
         "hovertemplate": "<b>%{x}</b><br>Customer Segment: %{name}<br>Conversion Rate: %{y:.2f}<extra></extra>",
         "name": "Foodies",
         "text": [
          0.139,
          0.135,
          0.134,
          0.129
         ],
         "textposition": "auto",
         "type": "bar",
         "x": [
          "Facebook Search",
          "Instagram Email",
          "Facebook Email",
          "Google Ads Search"
         ],
         "y": [
          0.13859607843137253,
          0.13451438848920863,
          0.13365399239543727,
          0.12927443609022557
         ]
        }
       ],
       "layout": {
        "bargap": 0.2,
        "bargroupgap": 0.1,
        "barmode": "group",
        "legend": {
         "title": {
          "text": "Customer Segment"
         }
        },
        "template": {
         "data": {
          "bar": [
           {
            "error_x": {
             "color": "#2a3f5f"
            },
            "error_y": {
             "color": "#2a3f5f"
            },
            "marker": {
             "line": {
              "color": "#E5ECF6",
              "width": 0.5
             },
             "pattern": {
              "fillmode": "overlay",
              "size": 10,
              "solidity": 0.2
             }
            },
            "type": "bar"
           }
          ],
          "barpolar": [
           {
            "marker": {
             "line": {
              "color": "#E5ECF6",
              "width": 0.5
             },
             "pattern": {
              "fillmode": "overlay",
              "size": 10,
              "solidity": 0.2
             }
            },
            "type": "barpolar"
           }
          ],
          "carpet": [
           {
            "aaxis": {
             "endlinecolor": "#2a3f5f",
             "gridcolor": "white",
             "linecolor": "white",
             "minorgridcolor": "white",
             "startlinecolor": "#2a3f5f"
            },
            "baxis": {
             "endlinecolor": "#2a3f5f",
             "gridcolor": "white",
             "linecolor": "white",
             "minorgridcolor": "white",
             "startlinecolor": "#2a3f5f"
            },
            "type": "carpet"
           }
          ],
          "choropleth": [
           {
            "colorbar": {
             "outlinewidth": 0,
             "ticks": ""
            },
            "type": "choropleth"
           }
          ],
          "contour": [
           {
            "colorbar": {
             "outlinewidth": 0,
             "ticks": ""
            },
            "colorscale": [
             [
              0,
              "#0d0887"
             ],
             [
              0.1111111111111111,
              "#46039f"
             ],
             [
              0.2222222222222222,
              "#7201a8"
             ],
             [
              0.3333333333333333,
              "#9c179e"
             ],
             [
              0.4444444444444444,
              "#bd3786"
             ],
             [
              0.5555555555555556,
              "#d8576b"
             ],
             [
              0.6666666666666666,
              "#ed7953"
             ],
             [
              0.7777777777777778,
              "#fb9f3a"
             ],
             [
              0.8888888888888888,
              "#fdca26"
             ],
             [
              1,
              "#f0f921"
             ]
            ],
            "type": "contour"
           }
          ],
          "contourcarpet": [
           {
            "colorbar": {
             "outlinewidth": 0,
             "ticks": ""
            },
            "type": "contourcarpet"
           }
          ],
          "heatmap": [
           {
            "colorbar": {
             "outlinewidth": 0,
             "ticks": ""
            },
            "colorscale": [
             [
              0,
              "#0d0887"
             ],
             [
              0.1111111111111111,
              "#46039f"
             ],
             [
              0.2222222222222222,
              "#7201a8"
             ],
             [
              0.3333333333333333,
              "#9c179e"
             ],
             [
              0.4444444444444444,
              "#bd3786"
             ],
             [
              0.5555555555555556,
              "#d8576b"
             ],
             [
              0.6666666666666666,
              "#ed7953"
             ],
             [
              0.7777777777777778,
              "#fb9f3a"
             ],
             [
              0.8888888888888888,
              "#fdca26"
             ],
             [
              1,
              "#f0f921"
             ]
            ],
            "type": "heatmap"
           }
          ],
          "heatmapgl": [
           {
            "colorbar": {
             "outlinewidth": 0,
             "ticks": ""
            },
            "colorscale": [
             [
              0,
              "#0d0887"
             ],
             [
              0.1111111111111111,
              "#46039f"
             ],
             [
              0.2222222222222222,
              "#7201a8"
             ],
             [
              0.3333333333333333,
              "#9c179e"
             ],
             [
              0.4444444444444444,
              "#bd3786"
             ],
             [
              0.5555555555555556,
              "#d8576b"
             ],
             [
              0.6666666666666666,
              "#ed7953"
             ],
             [
              0.7777777777777778,
              "#fb9f3a"
             ],
             [
              0.8888888888888888,
              "#fdca26"
             ],
             [
              1,
              "#f0f921"
             ]
            ],
            "type": "heatmapgl"
           }
          ],
          "histogram": [
           {
            "marker": {
             "pattern": {
              "fillmode": "overlay",
              "size": 10,
              "solidity": 0.2
             }
            },
            "type": "histogram"
           }
          ],
          "histogram2d": [
           {
            "colorbar": {
             "outlinewidth": 0,
             "ticks": ""
            },
            "colorscale": [
             [
              0,
              "#0d0887"
             ],
             [
              0.1111111111111111,
              "#46039f"
             ],
             [
              0.2222222222222222,
              "#7201a8"
             ],
             [
              0.3333333333333333,
              "#9c179e"
             ],
             [
              0.4444444444444444,
              "#bd3786"
             ],
             [
              0.5555555555555556,
              "#d8576b"
             ],
             [
              0.6666666666666666,
              "#ed7953"
             ],
             [
              0.7777777777777778,
              "#fb9f3a"
             ],
             [
              0.8888888888888888,
              "#fdca26"
             ],
             [
              1,
              "#f0f921"
             ]
            ],
            "type": "histogram2d"
           }
          ],
          "histogram2dcontour": [
           {
            "colorbar": {
             "outlinewidth": 0,
             "ticks": ""
            },
            "colorscale": [
             [
              0,
              "#0d0887"
             ],
             [
              0.1111111111111111,
              "#46039f"
             ],
             [
              0.2222222222222222,
              "#7201a8"
             ],
             [
              0.3333333333333333,
              "#9c179e"
             ],
             [
              0.4444444444444444,
              "#bd3786"
             ],
             [
              0.5555555555555556,
              "#d8576b"
             ],
             [
              0.6666666666666666,
              "#ed7953"
             ],
             [
              0.7777777777777778,
              "#fb9f3a"
             ],
             [
              0.8888888888888888,
              "#fdca26"
             ],
             [
              1,
              "#f0f921"
             ]
            ],
            "type": "histogram2dcontour"
           }
          ],
          "mesh3d": [
           {
            "colorbar": {
             "outlinewidth": 0,
             "ticks": ""
            },
            "type": "mesh3d"
           }
          ],
          "parcoords": [
           {
            "line": {
             "colorbar": {
              "outlinewidth": 0,
              "ticks": ""
             }
            },
            "type": "parcoords"
           }
          ],
          "pie": [
           {
            "automargin": true,
            "type": "pie"
           }
          ],
          "scatter": [
           {
            "fillpattern": {
             "fillmode": "overlay",
             "size": 10,
             "solidity": 0.2
            },
            "type": "scatter"
           }
          ],
          "scatter3d": [
           {
            "line": {
             "colorbar": {
              "outlinewidth": 0,
              "ticks": ""
             }
            },
            "marker": {
             "colorbar": {
              "outlinewidth": 0,
              "ticks": ""
             }
            },
            "type": "scatter3d"
           }
          ],
          "scattercarpet": [
           {
            "marker": {
             "colorbar": {
              "outlinewidth": 0,
              "ticks": ""
             }
            },
            "type": "scattercarpet"
           }
          ],
          "scattergeo": [
           {
            "marker": {
             "colorbar": {
              "outlinewidth": 0,
              "ticks": ""
             }
            },
            "type": "scattergeo"
           }
          ],
          "scattergl": [
           {
            "marker": {
             "colorbar": {
              "outlinewidth": 0,
              "ticks": ""
             }
            },
            "type": "scattergl"
           }
          ],
          "scattermapbox": [
           {
            "marker": {
             "colorbar": {
              "outlinewidth": 0,
              "ticks": ""
             }
            },
            "type": "scattermapbox"
           }
          ],
          "scatterpolar": [
           {
            "marker": {
             "colorbar": {
              "outlinewidth": 0,
              "ticks": ""
             }
            },
            "type": "scatterpolar"
           }
          ],
          "scatterpolargl": [
           {
            "marker": {
             "colorbar": {
              "outlinewidth": 0,
              "ticks": ""
             }
            },
            "type": "scatterpolargl"
           }
          ],
          "scatterternary": [
           {
            "marker": {
             "colorbar": {
              "outlinewidth": 0,
              "ticks": ""
             }
            },
            "type": "scatterternary"
           }
          ],
          "surface": [
           {
            "colorbar": {
             "outlinewidth": 0,
             "ticks": ""
            },
            "colorscale": [
             [
              0,
              "#0d0887"
             ],
             [
              0.1111111111111111,
              "#46039f"
             ],
             [
              0.2222222222222222,
              "#7201a8"
             ],
             [
              0.3333333333333333,
              "#9c179e"
             ],
             [
              0.4444444444444444,
              "#bd3786"
             ],
             [
              0.5555555555555556,
              "#d8576b"
             ],
             [
              0.6666666666666666,
              "#ed7953"
             ],
             [
              0.7777777777777778,
              "#fb9f3a"
             ],
             [
              0.8888888888888888,
              "#fdca26"
             ],
             [
              1,
              "#f0f921"
             ]
            ],
            "type": "surface"
           }
          ],
          "table": [
           {
            "cells": {
             "fill": {
              "color": "#EBF0F8"
             },
             "line": {
              "color": "white"
             }
            },
            "header": {
             "fill": {
              "color": "#C8D4E3"
             },
             "line": {
              "color": "white"
             }
            },
            "type": "table"
           }
          ]
         },
         "layout": {
          "annotationdefaults": {
           "arrowcolor": "#2a3f5f",
           "arrowhead": 0,
           "arrowwidth": 1
          },
          "autotypenumbers": "strict",
          "coloraxis": {
           "colorbar": {
            "outlinewidth": 0,
            "ticks": ""
           }
          },
          "colorscale": {
           "diverging": [
            [
             0,
             "#8e0152"
            ],
            [
             0.1,
             "#c51b7d"
            ],
            [
             0.2,
             "#de77ae"
            ],
            [
             0.3,
             "#f1b6da"
            ],
            [
             0.4,
             "#fde0ef"
            ],
            [
             0.5,
             "#f7f7f7"
            ],
            [
             0.6,
             "#e6f5d0"
            ],
            [
             0.7,
             "#b8e186"
            ],
            [
             0.8,
             "#7fbc41"
            ],
            [
             0.9,
             "#4d9221"
            ],
            [
             1,
             "#276419"
            ]
           ],
           "sequential": [
            [
             0,
             "#0d0887"
            ],
            [
             0.1111111111111111,
             "#46039f"
            ],
            [
             0.2222222222222222,
             "#7201a8"
            ],
            [
             0.3333333333333333,
             "#9c179e"
            ],
            [
             0.4444444444444444,
             "#bd3786"
            ],
            [
             0.5555555555555556,
             "#d8576b"
            ],
            [
             0.6666666666666666,
             "#ed7953"
            ],
            [
             0.7777777777777778,
             "#fb9f3a"
            ],
            [
             0.8888888888888888,
             "#fdca26"
            ],
            [
             1,
             "#f0f921"
            ]
           ],
           "sequentialminus": [
            [
             0,
             "#0d0887"
            ],
            [
             0.1111111111111111,
             "#46039f"
            ],
            [
             0.2222222222222222,
             "#7201a8"
            ],
            [
             0.3333333333333333,
             "#9c179e"
            ],
            [
             0.4444444444444444,
             "#bd3786"
            ],
            [
             0.5555555555555556,
             "#d8576b"
            ],
            [
             0.6666666666666666,
             "#ed7953"
            ],
            [
             0.7777777777777778,
             "#fb9f3a"
            ],
            [
             0.8888888888888888,
             "#fdca26"
            ],
            [
             1,
             "#f0f921"
            ]
           ]
          },
          "colorway": [
           "#636efa",
           "#EF553B",
           "#00cc96",
           "#ab63fa",
           "#FFA15A",
           "#19d3f3",
           "#FF6692",
           "#B6E880",
           "#FF97FF",
           "#FECB52"
          ],
          "font": {
           "color": "#2a3f5f"
          },
          "geo": {
           "bgcolor": "white",
           "lakecolor": "white",
           "landcolor": "#E5ECF6",
           "showlakes": true,
           "showland": true,
           "subunitcolor": "white"
          },
          "hoverlabel": {
           "align": "left"
          },
          "hovermode": "closest",
          "mapbox": {
           "style": "light"
          },
          "paper_bgcolor": "white",
          "plot_bgcolor": "#E5ECF6",
          "polar": {
           "angularaxis": {
            "gridcolor": "white",
            "linecolor": "white",
            "ticks": ""
           },
           "bgcolor": "#E5ECF6",
           "radialaxis": {
            "gridcolor": "white",
            "linecolor": "white",
            "ticks": ""
           }
          },
          "scene": {
           "xaxis": {
            "backgroundcolor": "#E5ECF6",
            "gridcolor": "white",
            "gridwidth": 2,
            "linecolor": "white",
            "showbackground": true,
            "ticks": "",
            "zerolinecolor": "white"
           },
           "yaxis": {
            "backgroundcolor": "#E5ECF6",
            "gridcolor": "white",
            "gridwidth": 2,
            "linecolor": "white",
            "showbackground": true,
            "ticks": "",
            "zerolinecolor": "white"
           },
           "zaxis": {
            "backgroundcolor": "#E5ECF6",
            "gridcolor": "white",
            "gridwidth": 2,
            "linecolor": "white",
            "showbackground": true,
            "ticks": "",
            "zerolinecolor": "white"
           }
          },
          "shapedefaults": {
           "line": {
            "color": "#2a3f5f"
           }
          },
          "ternary": {
           "aaxis": {
            "gridcolor": "white",
            "linecolor": "white",
            "ticks": ""
           },
           "baxis": {
            "gridcolor": "white",
            "linecolor": "white",
            "ticks": ""
           },
           "bgcolor": "#E5ECF6",
           "caxis": {
            "gridcolor": "white",
            "linecolor": "white",
            "ticks": ""
           }
          },
          "title": {
           "x": 0.05
          },
          "xaxis": {
           "automargin": true,
           "gridcolor": "white",
           "linecolor": "white",
           "ticks": "",
           "title": {
            "standoff": 15
           },
           "zerolinecolor": "white",
           "zerolinewidth": 2
          },
          "yaxis": {
           "automargin": true,
           "gridcolor": "white",
           "linecolor": "white",
           "ticks": "",
           "title": {
            "standoff": 15
           },
           "zerolinecolor": "white",
           "zerolinewidth": 2
          }
         }
        },
        "title": {
         "text": "Average Conversion Rates by Customer Segment for Each Campaign and Channel"
        },
        "xaxis": {
         "tickangle": -45,
         "title": {
          "text": "Campaign and Channel"
         }
        },
        "yaxis": {
         "range": [
          0.1,
          0.16
         ],
         "title": {
          "text": "Average Conversion Rate"
         }
        }
       }
      }
     },
     "metadata": {},
     "output_type": "display_data"
    }
   ],
   "source": [
    "import plotly.graph_objects as go\n",
    "\n",
    "# Combine 'Channel_Used' and 'Campaign_Type' to create a new column for the x-axis\n",
    "conversion_rates_summary['Campaign_Channel'] = conversion_rates_summary['Channel_Used'] + ' ' + conversion_rates_summary['Campaign_Type']\n",
    "\n",
    "# Create the plot\n",
    "fig = go.Figure()\n",
    "\n",
    "# Add bars for each customer segment\n",
    "customer_segments = conversion_rates_summary['Customer_Segment'].unique()\n",
    "\n",
    "for segment in customer_segments:\n",
    "    segment_df = conversion_rates_summary[conversion_rates_summary['Customer_Segment'] == segment]\n",
    "    fig.add_trace(go.Bar(\n",
    "        x=segment_df['Campaign_Channel'],\n",
    "        y=segment_df['Average_Conversion_Rate'],\n",
    "        name=segment,\n",
    "        text=segment_df['Average_Conversion_Rate'].round(3),\n",
    "        textposition='auto',\n",
    "        hovertemplate='<b>%{x}</b><br>Customer Segment: %{name}<br>Conversion Rate: %{y:.2f}<extra></extra>'\n",
    "    ))\n",
    "\n",
    "# Update layout\n",
    "fig.update_layout(\n",
    "    title='Average Conversion Rates by Customer Segment for Each Campaign and Channel',\n",
    "    xaxis_title='Campaign and Channel',\n",
    "    yaxis_title='Average Conversion Rate',\n",
    "    yaxis=dict(range=[0.1, 0.16]),\n",
    "    barmode='group',\n",
    "    bargap=0.20,\n",
    "    bargroupgap=0.1,\n",
    "    template='plotly',  # Predefined template for better colors\n",
    "    legend_title='Customer Segment',\n",
    "    xaxis_tickangle=-45,  # Rotate x-axis labels for better readability\n",
    ")\n",
    "\n",
    "# Show the plot\n",
    "fig.show()"
   ]
  },
  {
   "cell_type": "markdown",
   "metadata": {},
   "source": [
    "#### Key Insights:\n",
    "\n",
    "- For the **Facebook Email** campaign, targeting **Tech Enthusiasts** and **Fashionistas** would maximize conversions.\n",
    "  \n",
    "- For the **Facebook Search** campaign, the best segments are **Tech Enthusiasts** and **Fashionistas**.\n",
    "\n",
    "- For the **Google Ads Search** campaign, focusing on **Health & Wellness** and **Fashionistas** would yield the highest conversions.\n",
    "\n",
    "- For the **Instagram Email** campaign, **Tech Enthusiasts** and **Fashionistas** show the highest conversion rates, making them the optimal segments to target."
   ]
  },
  {
   "cell_type": "markdown",
   "metadata": {},
   "source": [
    "### 3. What is the optimal campaign duration for our selected marketing channels to maximize conversion rates?"
   ]
  },
  {
   "cell_type": "code",
   "execution_count": 114,
   "metadata": {},
   "outputs": [],
   "source": [
    "duration_conversion_summary = (\n",
    "    filtered_df.groupby(['Duration', 'Channel_Used', 'Campaign_Type'])\n",
    "    .agg({'Conversion_Rate': 'mean'})  # Calculate the average Conversion Rate\n",
    "    .reset_index()\n",
    ")"
   ]
  },
  {
   "cell_type": "code",
   "execution_count": 115,
   "metadata": {},
   "outputs": [
    {
     "data": {
      "application/vnd.plotly.v1+json": {
       "config": {
        "plotlyServerURL": "https://plot.ly"
       },
       "data": [
        {
         "hovertemplate": "<b>%{x}</b><br>Duration: %{name}<br>Conversion Rate: %{y:.2f}<extra></extra>",
         "name": "15",
         "text": [
          0.143,
          0.151,
          0.137,
          0.147
         ],
         "textposition": "auto",
         "type": "bar",
         "x": [
          "Facebook Email",
          "Facebook Search",
          "Google Ads Search",
          "Instagram Email"
         ],
         "y": [
          0.14255228758169936,
          0.151189349112426,
          0.1368623595505618,
          0.14710850439882697
         ]
        },
        {
         "hovertemplate": "<b>%{x}</b><br>Duration: %{name}<br>Conversion Rate: %{y:.2f}<extra></extra>",
         "name": "30",
         "text": [
          0.14,
          0.14,
          0.142,
          0.139
         ],
         "textposition": "auto",
         "type": "bar",
         "x": [
          "Facebook Email",
          "Facebook Search",
          "Google Ads Search",
          "Instagram Email"
         ],
         "y": [
          0.14037770897832816,
          0.1396,
          0.1419675516224189,
          0.1387603305785124
         ]
        },
        {
         "hovertemplate": "<b>%{x}</b><br>Duration: %{name}<br>Conversion Rate: %{y:.2f}<extra></extra>",
         "name": "45",
         "text": [
          0.15,
          0.146,
          0.137,
          0.141
         ],
         "textposition": "auto",
         "type": "bar",
         "x": [
          "Facebook Email",
          "Facebook Search",
          "Google Ads Search",
          "Instagram Email"
         ],
         "y": [
          0.14968067226890755,
          0.14558308157099697,
          0.13739650145772594,
          0.1406376811594203
         ]
        },
        {
         "hovertemplate": "<b>%{x}</b><br>Duration: %{name}<br>Conversion Rate: %{y:.2f}<extra></extra>",
         "name": "60",
         "text": [
          0.138,
          0.142,
          0.131,
          0.133
         ],
         "textposition": "auto",
         "type": "bar",
         "x": [
          "Facebook Email",
          "Facebook Search",
          "Google Ads Search",
          "Instagram Email"
         ],
         "y": [
          0.1375014245014245,
          0.1418276836158192,
          0.13139084507042254,
          0.13260360360360363
         ]
        }
       ],
       "layout": {
        "bargap": 0.2,
        "bargroupgap": 0.1,
        "barmode": "group",
        "legend": {
         "title": {
          "text": "Duration (days)"
         }
        },
        "template": {
         "data": {
          "bar": [
           {
            "error_x": {
             "color": "#2a3f5f"
            },
            "error_y": {
             "color": "#2a3f5f"
            },
            "marker": {
             "line": {
              "color": "#E5ECF6",
              "width": 0.5
             },
             "pattern": {
              "fillmode": "overlay",
              "size": 10,
              "solidity": 0.2
             }
            },
            "type": "bar"
           }
          ],
          "barpolar": [
           {
            "marker": {
             "line": {
              "color": "#E5ECF6",
              "width": 0.5
             },
             "pattern": {
              "fillmode": "overlay",
              "size": 10,
              "solidity": 0.2
             }
            },
            "type": "barpolar"
           }
          ],
          "carpet": [
           {
            "aaxis": {
             "endlinecolor": "#2a3f5f",
             "gridcolor": "white",
             "linecolor": "white",
             "minorgridcolor": "white",
             "startlinecolor": "#2a3f5f"
            },
            "baxis": {
             "endlinecolor": "#2a3f5f",
             "gridcolor": "white",
             "linecolor": "white",
             "minorgridcolor": "white",
             "startlinecolor": "#2a3f5f"
            },
            "type": "carpet"
           }
          ],
          "choropleth": [
           {
            "colorbar": {
             "outlinewidth": 0,
             "ticks": ""
            },
            "type": "choropleth"
           }
          ],
          "contour": [
           {
            "colorbar": {
             "outlinewidth": 0,
             "ticks": ""
            },
            "colorscale": [
             [
              0,
              "#0d0887"
             ],
             [
              0.1111111111111111,
              "#46039f"
             ],
             [
              0.2222222222222222,
              "#7201a8"
             ],
             [
              0.3333333333333333,
              "#9c179e"
             ],
             [
              0.4444444444444444,
              "#bd3786"
             ],
             [
              0.5555555555555556,
              "#d8576b"
             ],
             [
              0.6666666666666666,
              "#ed7953"
             ],
             [
              0.7777777777777778,
              "#fb9f3a"
             ],
             [
              0.8888888888888888,
              "#fdca26"
             ],
             [
              1,
              "#f0f921"
             ]
            ],
            "type": "contour"
           }
          ],
          "contourcarpet": [
           {
            "colorbar": {
             "outlinewidth": 0,
             "ticks": ""
            },
            "type": "contourcarpet"
           }
          ],
          "heatmap": [
           {
            "colorbar": {
             "outlinewidth": 0,
             "ticks": ""
            },
            "colorscale": [
             [
              0,
              "#0d0887"
             ],
             [
              0.1111111111111111,
              "#46039f"
             ],
             [
              0.2222222222222222,
              "#7201a8"
             ],
             [
              0.3333333333333333,
              "#9c179e"
             ],
             [
              0.4444444444444444,
              "#bd3786"
             ],
             [
              0.5555555555555556,
              "#d8576b"
             ],
             [
              0.6666666666666666,
              "#ed7953"
             ],
             [
              0.7777777777777778,
              "#fb9f3a"
             ],
             [
              0.8888888888888888,
              "#fdca26"
             ],
             [
              1,
              "#f0f921"
             ]
            ],
            "type": "heatmap"
           }
          ],
          "heatmapgl": [
           {
            "colorbar": {
             "outlinewidth": 0,
             "ticks": ""
            },
            "colorscale": [
             [
              0,
              "#0d0887"
             ],
             [
              0.1111111111111111,
              "#46039f"
             ],
             [
              0.2222222222222222,
              "#7201a8"
             ],
             [
              0.3333333333333333,
              "#9c179e"
             ],
             [
              0.4444444444444444,
              "#bd3786"
             ],
             [
              0.5555555555555556,
              "#d8576b"
             ],
             [
              0.6666666666666666,
              "#ed7953"
             ],
             [
              0.7777777777777778,
              "#fb9f3a"
             ],
             [
              0.8888888888888888,
              "#fdca26"
             ],
             [
              1,
              "#f0f921"
             ]
            ],
            "type": "heatmapgl"
           }
          ],
          "histogram": [
           {
            "marker": {
             "pattern": {
              "fillmode": "overlay",
              "size": 10,
              "solidity": 0.2
             }
            },
            "type": "histogram"
           }
          ],
          "histogram2d": [
           {
            "colorbar": {
             "outlinewidth": 0,
             "ticks": ""
            },
            "colorscale": [
             [
              0,
              "#0d0887"
             ],
             [
              0.1111111111111111,
              "#46039f"
             ],
             [
              0.2222222222222222,
              "#7201a8"
             ],
             [
              0.3333333333333333,
              "#9c179e"
             ],
             [
              0.4444444444444444,
              "#bd3786"
             ],
             [
              0.5555555555555556,
              "#d8576b"
             ],
             [
              0.6666666666666666,
              "#ed7953"
             ],
             [
              0.7777777777777778,
              "#fb9f3a"
             ],
             [
              0.8888888888888888,
              "#fdca26"
             ],
             [
              1,
              "#f0f921"
             ]
            ],
            "type": "histogram2d"
           }
          ],
          "histogram2dcontour": [
           {
            "colorbar": {
             "outlinewidth": 0,
             "ticks": ""
            },
            "colorscale": [
             [
              0,
              "#0d0887"
             ],
             [
              0.1111111111111111,
              "#46039f"
             ],
             [
              0.2222222222222222,
              "#7201a8"
             ],
             [
              0.3333333333333333,
              "#9c179e"
             ],
             [
              0.4444444444444444,
              "#bd3786"
             ],
             [
              0.5555555555555556,
              "#d8576b"
             ],
             [
              0.6666666666666666,
              "#ed7953"
             ],
             [
              0.7777777777777778,
              "#fb9f3a"
             ],
             [
              0.8888888888888888,
              "#fdca26"
             ],
             [
              1,
              "#f0f921"
             ]
            ],
            "type": "histogram2dcontour"
           }
          ],
          "mesh3d": [
           {
            "colorbar": {
             "outlinewidth": 0,
             "ticks": ""
            },
            "type": "mesh3d"
           }
          ],
          "parcoords": [
           {
            "line": {
             "colorbar": {
              "outlinewidth": 0,
              "ticks": ""
             }
            },
            "type": "parcoords"
           }
          ],
          "pie": [
           {
            "automargin": true,
            "type": "pie"
           }
          ],
          "scatter": [
           {
            "fillpattern": {
             "fillmode": "overlay",
             "size": 10,
             "solidity": 0.2
            },
            "type": "scatter"
           }
          ],
          "scatter3d": [
           {
            "line": {
             "colorbar": {
              "outlinewidth": 0,
              "ticks": ""
             }
            },
            "marker": {
             "colorbar": {
              "outlinewidth": 0,
              "ticks": ""
             }
            },
            "type": "scatter3d"
           }
          ],
          "scattercarpet": [
           {
            "marker": {
             "colorbar": {
              "outlinewidth": 0,
              "ticks": ""
             }
            },
            "type": "scattercarpet"
           }
          ],
          "scattergeo": [
           {
            "marker": {
             "colorbar": {
              "outlinewidth": 0,
              "ticks": ""
             }
            },
            "type": "scattergeo"
           }
          ],
          "scattergl": [
           {
            "marker": {
             "colorbar": {
              "outlinewidth": 0,
              "ticks": ""
             }
            },
            "type": "scattergl"
           }
          ],
          "scattermapbox": [
           {
            "marker": {
             "colorbar": {
              "outlinewidth": 0,
              "ticks": ""
             }
            },
            "type": "scattermapbox"
           }
          ],
          "scatterpolar": [
           {
            "marker": {
             "colorbar": {
              "outlinewidth": 0,
              "ticks": ""
             }
            },
            "type": "scatterpolar"
           }
          ],
          "scatterpolargl": [
           {
            "marker": {
             "colorbar": {
              "outlinewidth": 0,
              "ticks": ""
             }
            },
            "type": "scatterpolargl"
           }
          ],
          "scatterternary": [
           {
            "marker": {
             "colorbar": {
              "outlinewidth": 0,
              "ticks": ""
             }
            },
            "type": "scatterternary"
           }
          ],
          "surface": [
           {
            "colorbar": {
             "outlinewidth": 0,
             "ticks": ""
            },
            "colorscale": [
             [
              0,
              "#0d0887"
             ],
             [
              0.1111111111111111,
              "#46039f"
             ],
             [
              0.2222222222222222,
              "#7201a8"
             ],
             [
              0.3333333333333333,
              "#9c179e"
             ],
             [
              0.4444444444444444,
              "#bd3786"
             ],
             [
              0.5555555555555556,
              "#d8576b"
             ],
             [
              0.6666666666666666,
              "#ed7953"
             ],
             [
              0.7777777777777778,
              "#fb9f3a"
             ],
             [
              0.8888888888888888,
              "#fdca26"
             ],
             [
              1,
              "#f0f921"
             ]
            ],
            "type": "surface"
           }
          ],
          "table": [
           {
            "cells": {
             "fill": {
              "color": "#EBF0F8"
             },
             "line": {
              "color": "white"
             }
            },
            "header": {
             "fill": {
              "color": "#C8D4E3"
             },
             "line": {
              "color": "white"
             }
            },
            "type": "table"
           }
          ]
         },
         "layout": {
          "annotationdefaults": {
           "arrowcolor": "#2a3f5f",
           "arrowhead": 0,
           "arrowwidth": 1
          },
          "autotypenumbers": "strict",
          "coloraxis": {
           "colorbar": {
            "outlinewidth": 0,
            "ticks": ""
           }
          },
          "colorscale": {
           "diverging": [
            [
             0,
             "#8e0152"
            ],
            [
             0.1,
             "#c51b7d"
            ],
            [
             0.2,
             "#de77ae"
            ],
            [
             0.3,
             "#f1b6da"
            ],
            [
             0.4,
             "#fde0ef"
            ],
            [
             0.5,
             "#f7f7f7"
            ],
            [
             0.6,
             "#e6f5d0"
            ],
            [
             0.7,
             "#b8e186"
            ],
            [
             0.8,
             "#7fbc41"
            ],
            [
             0.9,
             "#4d9221"
            ],
            [
             1,
             "#276419"
            ]
           ],
           "sequential": [
            [
             0,
             "#0d0887"
            ],
            [
             0.1111111111111111,
             "#46039f"
            ],
            [
             0.2222222222222222,
             "#7201a8"
            ],
            [
             0.3333333333333333,
             "#9c179e"
            ],
            [
             0.4444444444444444,
             "#bd3786"
            ],
            [
             0.5555555555555556,
             "#d8576b"
            ],
            [
             0.6666666666666666,
             "#ed7953"
            ],
            [
             0.7777777777777778,
             "#fb9f3a"
            ],
            [
             0.8888888888888888,
             "#fdca26"
            ],
            [
             1,
             "#f0f921"
            ]
           ],
           "sequentialminus": [
            [
             0,
             "#0d0887"
            ],
            [
             0.1111111111111111,
             "#46039f"
            ],
            [
             0.2222222222222222,
             "#7201a8"
            ],
            [
             0.3333333333333333,
             "#9c179e"
            ],
            [
             0.4444444444444444,
             "#bd3786"
            ],
            [
             0.5555555555555556,
             "#d8576b"
            ],
            [
             0.6666666666666666,
             "#ed7953"
            ],
            [
             0.7777777777777778,
             "#fb9f3a"
            ],
            [
             0.8888888888888888,
             "#fdca26"
            ],
            [
             1,
             "#f0f921"
            ]
           ]
          },
          "colorway": [
           "#636efa",
           "#EF553B",
           "#00cc96",
           "#ab63fa",
           "#FFA15A",
           "#19d3f3",
           "#FF6692",
           "#B6E880",
           "#FF97FF",
           "#FECB52"
          ],
          "font": {
           "color": "#2a3f5f"
          },
          "geo": {
           "bgcolor": "white",
           "lakecolor": "white",
           "landcolor": "#E5ECF6",
           "showlakes": true,
           "showland": true,
           "subunitcolor": "white"
          },
          "hoverlabel": {
           "align": "left"
          },
          "hovermode": "closest",
          "mapbox": {
           "style": "light"
          },
          "paper_bgcolor": "white",
          "plot_bgcolor": "#E5ECF6",
          "polar": {
           "angularaxis": {
            "gridcolor": "white",
            "linecolor": "white",
            "ticks": ""
           },
           "bgcolor": "#E5ECF6",
           "radialaxis": {
            "gridcolor": "white",
            "linecolor": "white",
            "ticks": ""
           }
          },
          "scene": {
           "xaxis": {
            "backgroundcolor": "#E5ECF6",
            "gridcolor": "white",
            "gridwidth": 2,
            "linecolor": "white",
            "showbackground": true,
            "ticks": "",
            "zerolinecolor": "white"
           },
           "yaxis": {
            "backgroundcolor": "#E5ECF6",
            "gridcolor": "white",
            "gridwidth": 2,
            "linecolor": "white",
            "showbackground": true,
            "ticks": "",
            "zerolinecolor": "white"
           },
           "zaxis": {
            "backgroundcolor": "#E5ECF6",
            "gridcolor": "white",
            "gridwidth": 2,
            "linecolor": "white",
            "showbackground": true,
            "ticks": "",
            "zerolinecolor": "white"
           }
          },
          "shapedefaults": {
           "line": {
            "color": "#2a3f5f"
           }
          },
          "ternary": {
           "aaxis": {
            "gridcolor": "white",
            "linecolor": "white",
            "ticks": ""
           },
           "baxis": {
            "gridcolor": "white",
            "linecolor": "white",
            "ticks": ""
           },
           "bgcolor": "#E5ECF6",
           "caxis": {
            "gridcolor": "white",
            "linecolor": "white",
            "ticks": ""
           }
          },
          "title": {
           "x": 0.05
          },
          "xaxis": {
           "automargin": true,
           "gridcolor": "white",
           "linecolor": "white",
           "ticks": "",
           "title": {
            "standoff": 15
           },
           "zerolinecolor": "white",
           "zerolinewidth": 2
          },
          "yaxis": {
           "automargin": true,
           "gridcolor": "white",
           "linecolor": "white",
           "ticks": "",
           "title": {
            "standoff": 15
           },
           "zerolinecolor": "white",
           "zerolinewidth": 2
          }
         }
        },
        "title": {
         "text": "Average Conversion Rates by Duration for Each Campaign and Channel"
        },
        "xaxis": {
         "tickangle": -45,
         "title": {
          "text": "Campaign and Channel"
         }
        },
        "yaxis": {
         "range": [
          0.1,
          0.16
         ],
         "title": {
          "text": "Average Conversion Rate"
         }
        }
       }
      }
     },
     "metadata": {},
     "output_type": "display_data"
    }
   ],
   "source": [
    "import plotly.graph_objects as go\n",
    "\n",
    "# Combine 'Channel_Used' and 'Campaign_Type' to create a new column for the x-axis\n",
    "duration_conversion_summary['Campaign_Channel'] = duration_conversion_summary['Channel_Used'] + ' ' + duration_conversion_summary['Campaign_Type']\n",
    "\n",
    "# Create the plot\n",
    "fig = go.Figure()\n",
    "\n",
    "# Add bars for each unique duration\n",
    "durations = duration_conversion_summary['Duration'].unique()\n",
    "\n",
    "for duration in durations:\n",
    "    segment_df = duration_conversion_summary[duration_conversion_summary['Duration'] == duration]\n",
    "    fig.add_trace(go.Bar(\n",
    "        x=segment_df['Campaign_Channel'],\n",
    "        y=segment_df['Conversion_Rate'],  # Use conversion rate for the y-axis\n",
    "        name=str(duration),  # Convert duration to string for the legend\n",
    "        text=segment_df['Conversion_Rate'].round(3),  # Round to 3 decimal places\n",
    "        textposition='auto',\n",
    "        hovertemplate='<b>%{x}</b><br>Duration: %{name}<br>Conversion Rate: %{y:.2f}<extra></extra>'  # Update hover text\n",
    "    ))\n",
    "\n",
    "# Update layout\n",
    "fig.update_layout(\n",
    "    title='Average Conversion Rates by Duration for Each Campaign and Channel',\n",
    "    xaxis_title='Campaign and Channel',\n",
    "    yaxis_title='Average Conversion Rate',\n",
    "    yaxis=dict(range=[0.1, 0.16]),  # Set y-axis range\n",
    "    barmode='group',  # Group bars by duration\n",
    "    bargap=0.20,\n",
    "    bargroupgap=0.1,\n",
    "    template='plotly',  # Predefined template for better colors\n",
    "    legend_title='Duration (days)',\n",
    "    xaxis_tickangle=-45,  # Rotate x-axis labels for better readability\n",
    ")\n",
    "\n",
    "# Show the plot\n",
    "fig.show()\n"
   ]
  },
  {
   "cell_type": "markdown",
   "metadata": {},
   "source": [
    "#### Key Insights on Ideal Campaign Duration\n",
    "\n",
    "- **Facebook Email Campaigns**: The ideal duration is **45 days**, achieving the highest conversion rate.\n",
    "\n",
    "- **Facebook Search Campaigns**: The best duration is **15 days**, yielding a conversion rate.\n",
    "\n",
    "- **Google Ads Search Campaigns**: The **30-day** duration is optimal with a conversion rate of **0.14**.\n",
    "\n",
    "- **Instagram Email Campaigns**: A **15-day** duration offers a solid conversion rate of **0.147**.\n",
    "\n",
    "- **Longer Durations (60 days)**: Both Facebook and Instagram show lower conversion rates compared to shorter durations, particularly in the **Google Ads Search**, which sees a decrease to **0.131**.\n",
    "\n",
    "Overall, the data indicates that shorter campaign durations (15-30 days) tend to yield higher conversion rates across most channels and campaign types.\n"
   ]
  },
  {
   "cell_type": "markdown",
   "metadata": {},
   "source": [
    "### 4. What is the optimal month of the year to run each selected campaign, based on historical conversion rates and considering the ideal campaign duration?"
   ]
  },
  {
   "cell_type": "code",
   "execution_count": 116,
   "metadata": {},
   "outputs": [
    {
     "data": {
      "application/vnd.plotly.v1+json": {
       "config": {
        "plotlyServerURL": "https://plot.ly"
       },
       "data": [
        {
         "hovertemplate": "Campaign_Channel=Facebook Email<br>Month=%{x}<br>Average Conversion Rate=%{y}<extra></extra>",
         "legendgroup": "Facebook Email",
         "line": {
          "color": "#636efa",
          "dash": "solid"
         },
         "marker": {
          "symbol": "circle"
         },
         "mode": "lines",
         "name": "Facebook Email",
         "orientation": "v",
         "showlegend": true,
         "type": "scatter",
         "x": [
          1,
          2,
          3,
          4,
          5,
          6,
          7,
          8,
          9,
          10,
          11,
          12
         ],
         "xaxis": "x",
         "y": [
          0.1474909090909091,
          0.14184615384615384,
          0.13373684210526315,
          0.1454,
          0.1523984375,
          0.14510084033613446,
          0.14048275862068965,
          0.14248,
          0.14784873949579833,
          0.13171134020618558,
          0.1354,
          0.14454310344827587
         ],
         "yaxis": "y"
        },
        {
         "hovertemplate": "Campaign_Channel=Facebook Search<br>Month=%{x}<br>Average Conversion Rate=%{y}<extra></extra>",
         "legendgroup": "Facebook Search",
         "line": {
          "color": "#EF553B",
          "dash": "solid"
         },
         "marker": {
          "symbol": "circle"
         },
         "mode": "lines",
         "name": "Facebook Search",
         "orientation": "v",
         "showlegend": true,
         "type": "scatter",
         "x": [
          1,
          2,
          3,
          4,
          5,
          6,
          7,
          8,
          9,
          10,
          11,
          12
         ],
         "xaxis": "x",
         "y": [
          0.13863559322033897,
          0.141989898989899,
          0.1535607476635514,
          0.14648214285714284,
          0.13294845360824742,
          0.15933846153846154,
          0.14115126050420168,
          0.1474051724137931,
          0.14039805825242718,
          0.145364406779661,
          0.14612820512820515,
          0.13756410256410256
         ],
         "yaxis": "y"
        },
        {
         "hovertemplate": "Campaign_Channel=Google Ads Search<br>Month=%{x}<br>Average Conversion Rate=%{y}<extra></extra>",
         "legendgroup": "Google Ads Search",
         "line": {
          "color": "#00cc96",
          "dash": "solid"
         },
         "marker": {
          "symbol": "circle"
         },
         "mode": "lines",
         "name": "Google Ads Search",
         "orientation": "v",
         "showlegend": true,
         "type": "scatter",
         "x": [
          1,
          2,
          3,
          4,
          5,
          6,
          7,
          8,
          9,
          10,
          11,
          12
         ],
         "xaxis": "x",
         "y": [
          0.13640860215053763,
          0.1406422018348624,
          0.13338053097345134,
          0.13770642201834862,
          0.12280909090909091,
          0.1392233009708738,
          0.13216030534351145,
          0.1341794871794872,
          0.15323762376237623,
          0.130009009009009,
          0.14599159663865546,
          0.142
         ],
         "yaxis": "y"
        },
        {
         "hovertemplate": "Campaign_Channel=Instagram Email<br>Month=%{x}<br>Average Conversion Rate=%{y}<extra></extra>",
         "legendgroup": "Instagram Email",
         "line": {
          "color": "#ab63fa",
          "dash": "solid"
         },
         "marker": {
          "symbol": "circle"
         },
         "mode": "lines",
         "name": "Instagram Email",
         "orientation": "v",
         "showlegend": true,
         "type": "scatter",
         "x": [
          1,
          2,
          3,
          4,
          5,
          6,
          7,
          8,
          9,
          10,
          11,
          12
         ],
         "xaxis": "x",
         "y": [
          0.1343828125,
          0.13895,
          0.13799159663865546,
          0.1473223140495868,
          0.14909016393442623,
          0.13246236559139785,
          0.13654032258064516,
          0.13655882352941176,
          0.14202205882352942,
          0.13804672897196263,
          0.14241666666666666,
          0.1400263157894737
         ],
         "yaxis": "y"
        }
       ],
       "layout": {
        "legend": {
         "title": {
          "text": "Campaign_Channel"
         },
         "tracegroupgap": 0
        },
        "template": {
         "data": {
          "bar": [
           {
            "error_x": {
             "color": "#2a3f5f"
            },
            "error_y": {
             "color": "#2a3f5f"
            },
            "marker": {
             "line": {
              "color": "#E5ECF6",
              "width": 0.5
             },
             "pattern": {
              "fillmode": "overlay",
              "size": 10,
              "solidity": 0.2
             }
            },
            "type": "bar"
           }
          ],
          "barpolar": [
           {
            "marker": {
             "line": {
              "color": "#E5ECF6",
              "width": 0.5
             },
             "pattern": {
              "fillmode": "overlay",
              "size": 10,
              "solidity": 0.2
             }
            },
            "type": "barpolar"
           }
          ],
          "carpet": [
           {
            "aaxis": {
             "endlinecolor": "#2a3f5f",
             "gridcolor": "white",
             "linecolor": "white",
             "minorgridcolor": "white",
             "startlinecolor": "#2a3f5f"
            },
            "baxis": {
             "endlinecolor": "#2a3f5f",
             "gridcolor": "white",
             "linecolor": "white",
             "minorgridcolor": "white",
             "startlinecolor": "#2a3f5f"
            },
            "type": "carpet"
           }
          ],
          "choropleth": [
           {
            "colorbar": {
             "outlinewidth": 0,
             "ticks": ""
            },
            "type": "choropleth"
           }
          ],
          "contour": [
           {
            "colorbar": {
             "outlinewidth": 0,
             "ticks": ""
            },
            "colorscale": [
             [
              0,
              "#0d0887"
             ],
             [
              0.1111111111111111,
              "#46039f"
             ],
             [
              0.2222222222222222,
              "#7201a8"
             ],
             [
              0.3333333333333333,
              "#9c179e"
             ],
             [
              0.4444444444444444,
              "#bd3786"
             ],
             [
              0.5555555555555556,
              "#d8576b"
             ],
             [
              0.6666666666666666,
              "#ed7953"
             ],
             [
              0.7777777777777778,
              "#fb9f3a"
             ],
             [
              0.8888888888888888,
              "#fdca26"
             ],
             [
              1,
              "#f0f921"
             ]
            ],
            "type": "contour"
           }
          ],
          "contourcarpet": [
           {
            "colorbar": {
             "outlinewidth": 0,
             "ticks": ""
            },
            "type": "contourcarpet"
           }
          ],
          "heatmap": [
           {
            "colorbar": {
             "outlinewidth": 0,
             "ticks": ""
            },
            "colorscale": [
             [
              0,
              "#0d0887"
             ],
             [
              0.1111111111111111,
              "#46039f"
             ],
             [
              0.2222222222222222,
              "#7201a8"
             ],
             [
              0.3333333333333333,
              "#9c179e"
             ],
             [
              0.4444444444444444,
              "#bd3786"
             ],
             [
              0.5555555555555556,
              "#d8576b"
             ],
             [
              0.6666666666666666,
              "#ed7953"
             ],
             [
              0.7777777777777778,
              "#fb9f3a"
             ],
             [
              0.8888888888888888,
              "#fdca26"
             ],
             [
              1,
              "#f0f921"
             ]
            ],
            "type": "heatmap"
           }
          ],
          "heatmapgl": [
           {
            "colorbar": {
             "outlinewidth": 0,
             "ticks": ""
            },
            "colorscale": [
             [
              0,
              "#0d0887"
             ],
             [
              0.1111111111111111,
              "#46039f"
             ],
             [
              0.2222222222222222,
              "#7201a8"
             ],
             [
              0.3333333333333333,
              "#9c179e"
             ],
             [
              0.4444444444444444,
              "#bd3786"
             ],
             [
              0.5555555555555556,
              "#d8576b"
             ],
             [
              0.6666666666666666,
              "#ed7953"
             ],
             [
              0.7777777777777778,
              "#fb9f3a"
             ],
             [
              0.8888888888888888,
              "#fdca26"
             ],
             [
              1,
              "#f0f921"
             ]
            ],
            "type": "heatmapgl"
           }
          ],
          "histogram": [
           {
            "marker": {
             "pattern": {
              "fillmode": "overlay",
              "size": 10,
              "solidity": 0.2
             }
            },
            "type": "histogram"
           }
          ],
          "histogram2d": [
           {
            "colorbar": {
             "outlinewidth": 0,
             "ticks": ""
            },
            "colorscale": [
             [
              0,
              "#0d0887"
             ],
             [
              0.1111111111111111,
              "#46039f"
             ],
             [
              0.2222222222222222,
              "#7201a8"
             ],
             [
              0.3333333333333333,
              "#9c179e"
             ],
             [
              0.4444444444444444,
              "#bd3786"
             ],
             [
              0.5555555555555556,
              "#d8576b"
             ],
             [
              0.6666666666666666,
              "#ed7953"
             ],
             [
              0.7777777777777778,
              "#fb9f3a"
             ],
             [
              0.8888888888888888,
              "#fdca26"
             ],
             [
              1,
              "#f0f921"
             ]
            ],
            "type": "histogram2d"
           }
          ],
          "histogram2dcontour": [
           {
            "colorbar": {
             "outlinewidth": 0,
             "ticks": ""
            },
            "colorscale": [
             [
              0,
              "#0d0887"
             ],
             [
              0.1111111111111111,
              "#46039f"
             ],
             [
              0.2222222222222222,
              "#7201a8"
             ],
             [
              0.3333333333333333,
              "#9c179e"
             ],
             [
              0.4444444444444444,
              "#bd3786"
             ],
             [
              0.5555555555555556,
              "#d8576b"
             ],
             [
              0.6666666666666666,
              "#ed7953"
             ],
             [
              0.7777777777777778,
              "#fb9f3a"
             ],
             [
              0.8888888888888888,
              "#fdca26"
             ],
             [
              1,
              "#f0f921"
             ]
            ],
            "type": "histogram2dcontour"
           }
          ],
          "mesh3d": [
           {
            "colorbar": {
             "outlinewidth": 0,
             "ticks": ""
            },
            "type": "mesh3d"
           }
          ],
          "parcoords": [
           {
            "line": {
             "colorbar": {
              "outlinewidth": 0,
              "ticks": ""
             }
            },
            "type": "parcoords"
           }
          ],
          "pie": [
           {
            "automargin": true,
            "type": "pie"
           }
          ],
          "scatter": [
           {
            "fillpattern": {
             "fillmode": "overlay",
             "size": 10,
             "solidity": 0.2
            },
            "type": "scatter"
           }
          ],
          "scatter3d": [
           {
            "line": {
             "colorbar": {
              "outlinewidth": 0,
              "ticks": ""
             }
            },
            "marker": {
             "colorbar": {
              "outlinewidth": 0,
              "ticks": ""
             }
            },
            "type": "scatter3d"
           }
          ],
          "scattercarpet": [
           {
            "marker": {
             "colorbar": {
              "outlinewidth": 0,
              "ticks": ""
             }
            },
            "type": "scattercarpet"
           }
          ],
          "scattergeo": [
           {
            "marker": {
             "colorbar": {
              "outlinewidth": 0,
              "ticks": ""
             }
            },
            "type": "scattergeo"
           }
          ],
          "scattergl": [
           {
            "marker": {
             "colorbar": {
              "outlinewidth": 0,
              "ticks": ""
             }
            },
            "type": "scattergl"
           }
          ],
          "scattermapbox": [
           {
            "marker": {
             "colorbar": {
              "outlinewidth": 0,
              "ticks": ""
             }
            },
            "type": "scattermapbox"
           }
          ],
          "scatterpolar": [
           {
            "marker": {
             "colorbar": {
              "outlinewidth": 0,
              "ticks": ""
             }
            },
            "type": "scatterpolar"
           }
          ],
          "scatterpolargl": [
           {
            "marker": {
             "colorbar": {
              "outlinewidth": 0,
              "ticks": ""
             }
            },
            "type": "scatterpolargl"
           }
          ],
          "scatterternary": [
           {
            "marker": {
             "colorbar": {
              "outlinewidth": 0,
              "ticks": ""
             }
            },
            "type": "scatterternary"
           }
          ],
          "surface": [
           {
            "colorbar": {
             "outlinewidth": 0,
             "ticks": ""
            },
            "colorscale": [
             [
              0,
              "#0d0887"
             ],
             [
              0.1111111111111111,
              "#46039f"
             ],
             [
              0.2222222222222222,
              "#7201a8"
             ],
             [
              0.3333333333333333,
              "#9c179e"
             ],
             [
              0.4444444444444444,
              "#bd3786"
             ],
             [
              0.5555555555555556,
              "#d8576b"
             ],
             [
              0.6666666666666666,
              "#ed7953"
             ],
             [
              0.7777777777777778,
              "#fb9f3a"
             ],
             [
              0.8888888888888888,
              "#fdca26"
             ],
             [
              1,
              "#f0f921"
             ]
            ],
            "type": "surface"
           }
          ],
          "table": [
           {
            "cells": {
             "fill": {
              "color": "#EBF0F8"
             },
             "line": {
              "color": "white"
             }
            },
            "header": {
             "fill": {
              "color": "#C8D4E3"
             },
             "line": {
              "color": "white"
             }
            },
            "type": "table"
           }
          ]
         },
         "layout": {
          "annotationdefaults": {
           "arrowcolor": "#2a3f5f",
           "arrowhead": 0,
           "arrowwidth": 1
          },
          "autotypenumbers": "strict",
          "coloraxis": {
           "colorbar": {
            "outlinewidth": 0,
            "ticks": ""
           }
          },
          "colorscale": {
           "diverging": [
            [
             0,
             "#8e0152"
            ],
            [
             0.1,
             "#c51b7d"
            ],
            [
             0.2,
             "#de77ae"
            ],
            [
             0.3,
             "#f1b6da"
            ],
            [
             0.4,
             "#fde0ef"
            ],
            [
             0.5,
             "#f7f7f7"
            ],
            [
             0.6,
             "#e6f5d0"
            ],
            [
             0.7,
             "#b8e186"
            ],
            [
             0.8,
             "#7fbc41"
            ],
            [
             0.9,
             "#4d9221"
            ],
            [
             1,
             "#276419"
            ]
           ],
           "sequential": [
            [
             0,
             "#0d0887"
            ],
            [
             0.1111111111111111,
             "#46039f"
            ],
            [
             0.2222222222222222,
             "#7201a8"
            ],
            [
             0.3333333333333333,
             "#9c179e"
            ],
            [
             0.4444444444444444,
             "#bd3786"
            ],
            [
             0.5555555555555556,
             "#d8576b"
            ],
            [
             0.6666666666666666,
             "#ed7953"
            ],
            [
             0.7777777777777778,
             "#fb9f3a"
            ],
            [
             0.8888888888888888,
             "#fdca26"
            ],
            [
             1,
             "#f0f921"
            ]
           ],
           "sequentialminus": [
            [
             0,
             "#0d0887"
            ],
            [
             0.1111111111111111,
             "#46039f"
            ],
            [
             0.2222222222222222,
             "#7201a8"
            ],
            [
             0.3333333333333333,
             "#9c179e"
            ],
            [
             0.4444444444444444,
             "#bd3786"
            ],
            [
             0.5555555555555556,
             "#d8576b"
            ],
            [
             0.6666666666666666,
             "#ed7953"
            ],
            [
             0.7777777777777778,
             "#fb9f3a"
            ],
            [
             0.8888888888888888,
             "#fdca26"
            ],
            [
             1,
             "#f0f921"
            ]
           ]
          },
          "colorway": [
           "#636efa",
           "#EF553B",
           "#00cc96",
           "#ab63fa",
           "#FFA15A",
           "#19d3f3",
           "#FF6692",
           "#B6E880",
           "#FF97FF",
           "#FECB52"
          ],
          "font": {
           "color": "#2a3f5f"
          },
          "geo": {
           "bgcolor": "white",
           "lakecolor": "white",
           "landcolor": "#E5ECF6",
           "showlakes": true,
           "showland": true,
           "subunitcolor": "white"
          },
          "hoverlabel": {
           "align": "left"
          },
          "hovermode": "closest",
          "mapbox": {
           "style": "light"
          },
          "paper_bgcolor": "white",
          "plot_bgcolor": "#E5ECF6",
          "polar": {
           "angularaxis": {
            "gridcolor": "white",
            "linecolor": "white",
            "ticks": ""
           },
           "bgcolor": "#E5ECF6",
           "radialaxis": {
            "gridcolor": "white",
            "linecolor": "white",
            "ticks": ""
           }
          },
          "scene": {
           "xaxis": {
            "backgroundcolor": "#E5ECF6",
            "gridcolor": "white",
            "gridwidth": 2,
            "linecolor": "white",
            "showbackground": true,
            "ticks": "",
            "zerolinecolor": "white"
           },
           "yaxis": {
            "backgroundcolor": "#E5ECF6",
            "gridcolor": "white",
            "gridwidth": 2,
            "linecolor": "white",
            "showbackground": true,
            "ticks": "",
            "zerolinecolor": "white"
           },
           "zaxis": {
            "backgroundcolor": "#E5ECF6",
            "gridcolor": "white",
            "gridwidth": 2,
            "linecolor": "white",
            "showbackground": true,
            "ticks": "",
            "zerolinecolor": "white"
           }
          },
          "shapedefaults": {
           "line": {
            "color": "#2a3f5f"
           }
          },
          "ternary": {
           "aaxis": {
            "gridcolor": "white",
            "linecolor": "white",
            "ticks": ""
           },
           "baxis": {
            "gridcolor": "white",
            "linecolor": "white",
            "ticks": ""
           },
           "bgcolor": "#E5ECF6",
           "caxis": {
            "gridcolor": "white",
            "linecolor": "white",
            "ticks": ""
           }
          },
          "title": {
           "x": 0.05
          },
          "xaxis": {
           "automargin": true,
           "gridcolor": "white",
           "linecolor": "white",
           "ticks": "",
           "title": {
            "standoff": 15
           },
           "zerolinecolor": "white",
           "zerolinewidth": 2
          },
          "yaxis": {
           "automargin": true,
           "gridcolor": "white",
           "linecolor": "white",
           "ticks": "",
           "title": {
            "standoff": 15
           },
           "zerolinecolor": "white",
           "zerolinewidth": 2
          }
         }
        },
        "title": {
         "text": "Average Conversion Rates by Channel and Campaign Over Months"
        },
        "xaxis": {
         "anchor": "y",
         "domain": [
          0,
          1
         ],
         "tickmode": "array",
         "ticktext": [
          "Jan",
          "Feb",
          "Mar",
          "Apr",
          "May",
          "Jun",
          "Jul",
          "Aug",
          "Sep",
          "Oct",
          "Nov",
          "Dec"
         ],
         "tickvals": [
          1,
          2,
          3,
          4,
          5,
          6,
          7,
          8,
          9,
          10,
          11,
          12
         ],
         "title": {
          "text": "Month"
         }
        },
        "yaxis": {
         "anchor": "x",
         "domain": [
          0,
          1
         ],
         "range": [
          0.1,
          0.16
         ],
         "title": {
          "text": "Average Conversion Rate"
         }
        }
       }
      }
     },
     "metadata": {},
     "output_type": "display_data"
    }
   ],
   "source": [
    "# Combine 'Channel_Used' and 'Campaign_Type' for better grouping\n",
    "filtered_df['Campaign_Channel'] = filtered_df['Channel_Used'] + ' ' + filtered_df['Campaign_Type']\n",
    "\n",
    "# Extract month and year from the date\n",
    "filtered_df['Date'] = pd.to_datetime(filtered_df['Date'])\n",
    "filtered_df['Month'] = filtered_df['Date'].dt.month\n",
    "filtered_df['Year'] = filtered_df['Date'].dt.year\n",
    "\n",
    "# Group by Month and Campaign_Channel to calculate the average Conversion Rate\n",
    "monthly_conversion_channel_summary = (\n",
    "    filtered_df.groupby(['Year', 'Month', 'Campaign_Channel'])\n",
    "    .agg({'Conversion_Rate': 'mean'})  # Calculate the average Conversion Rate\n",
    "    .reset_index()\n",
    ")\n",
    "\n",
    "# Create the line chart\n",
    "fig = px.line(\n",
    "    monthly_conversion_channel_summary,\n",
    "    x='Month',\n",
    "    y='Conversion_Rate',\n",
    "    color='Campaign_Channel',\n",
    "    title='Average Conversion Rates by Channel and Campaign Over Months',\n",
    "    labels={'Month': 'Month', 'Conversion_Rate': 'Average Conversion Rate'},\n",
    ")\n",
    "\n",
    "# Update layout for better visibility\n",
    "fig.update_layout(\n",
    "    xaxis_title='Month',\n",
    "    yaxis_title='Average Conversion Rate',\n",
    "    yaxis=dict(range=[0.1, 0.16]),  # Set the y-axis range if needed\n",
    "    xaxis_tickmode='array',  # This allows for better control of x-axis ticks\n",
    "    xaxis_tickvals=list(range(1, 13)),  # Set tick values for each month\n",
    "    xaxis_ticktext=[\n",
    "        'Jan', 'Feb', 'Mar', 'Apr', 'May', 'Jun', \n",
    "        'Jul', 'Aug', 'Sep', 'Oct', 'Nov', 'Dec'\n",
    "    ]  # Set month names\n",
    ")\n",
    "\n",
    "# Show the plot\n",
    "fig.show()"
   ]
  },
  {
   "cell_type": "markdown",
   "metadata": {},
   "source": [
    "#### Ideal Campaign Duration Selection\n",
    "\n",
    "Based on the analysis of conversion rates, the following optimal durations for running selected campaigns have been identified:\n",
    "\n",
    "- **Facebook Email**: \n",
    "  - **Ideal Duration**: 45 days\n",
    "  - **Selected Days**: 30 days of May and 15 days of June\n",
    "  - **Rationale**: These periods exhibited the best consecutive conversion rates.\n",
    "\n",
    "- **Facebook Search**: \n",
    "  - **Ideal Duration**: 15 days\n",
    "  - **Selected Days**: 15 days in June\n",
    "  - **Rationale**: This period showed strong performance in conversion rates.\n",
    "\n",
    "- **Google Ads Search**: \n",
    "  - **Ideal Duration**: 30 days\n",
    "  - **Selected Days**: 30 days of September\n",
    "  - **Rationale**: This month displayed the highest average conversion rates.\n",
    "\n",
    "- **Instagram Email**: \n",
    "  - **Ideal Duration**: 15 days\n",
    "  - **Selected Days**: 15 days in May\n",
    "  - **Rationale**: This period had notable conversion performance.\n"
   ]
  },
  {
   "cell_type": "markdown",
   "metadata": {},
   "source": [
    "### 5. How do net profit estimates improve when considering customer segments, durations, and timing?"
   ]
  },
  {
   "cell_type": "code",
   "execution_count": 117,
   "metadata": {},
   "outputs": [],
   "source": [
    "# Assuming 'allocation_result' DataFrame is already available with necessary columns\n",
    "allocation_result['Estimated_New_Customers'] = allocation_result['Budget_Allocation'] / allocation_result['average_acquisition_cost']\n",
    "allocation_result['Estimated_Net_Profit'] = allocation_result['Budget_Allocation'] * (allocation_result['average_ROI'] )\n",
    "\n",
    "allocation_result['Channel_Campaign'] = allocation_result['Channel_Used'] + \" - \" + allocation_result['Campaign_Type']\n",
    "\n",
    "# Format 'Estimated_Net_Profit' and 'Estimated_New_Customers'\n",
    "allocation_result['Estimated_Net_Profit'] = \"$\" + allocation_result['Estimated_Net_Profit'].apply(lambda x: f\"{int(round(x))}\")\n",
    "allocation_result['Estimated_New_Customers'] = allocation_result['Estimated_New_Customers'].round(2)\n",
    "\n",
    "# Create a new DataFrame with the required columns\n",
    "result_df = allocation_result[['Channel_Campaign', 'Estimated_New_Customers', 'Estimated_Net_Profit']]\n"
   ]
  },
  {
   "cell_type": "code",
   "execution_count": 123,
   "metadata": {},
   "outputs": [],
   "source": [
    "import pandas as pd\n",
    "\n",
    "# Your existing code to calculate Estimated Net Profit\n",
    "result_df = allocation_result.copy()\n",
    "\n",
    "# Calculate Estimated Net Profit under existing conditions\n",
    "result_df['Estimated_Net_Profit'] = result_df['Budget_Allocation'] * result_df['average_ROI']\n",
    "\n",
    "# Prepare to calculate optimal conditions\n",
    "optimal_net_profits = []\n",
    "\n",
    "# Define optimal conditions for each campaign\n",
    "optimal_conditions = {\n",
    "    \"Facebook - Email\": {\n",
    "        \"Customer_Segment\": [\"Tech Enthusiasts\", \"Fashionistas\"],\n",
    "        \"duration\": 45\n",
    "    },\n",
    "    \"Facebook - Search\": {\n",
    "        \"Customer_Segment\": [\"Tech Enthusiasts\", \"Fashionistas\"],\n",
    "        \"duration\": 15\n",
    "    },\n",
    "    \"Google Ads - Search\": {\n",
    "        \"Customer_Segment\": [\"Health & Wellness\", \"Fashionistas\"],\n",
    "        \"duration\": 30\n",
    "    },\n",
    "    \"Instagram - Email\": {\n",
    "        \"Customer_Segment\": [\"Tech Enthusiasts\", \"Fashionistas\"],\n",
    "        \"duration\": 15\n",
    "    }\n",
    "}\n",
    "\n",
    "# Loop through each campaign in allocation_result\n",
    "for index, row in result_df.iterrows():\n",
    "    channel_campaign = row['Channel_Campaign']\n",
    "    \n",
    "    # Get optimal conditions for the current campaign\n",
    "    conditions = optimal_conditions.get(channel_campaign)\n",
    "    \n",
    "    if conditions:\n",
    "        target_audience = conditions['Customer_Segment']\n",
    "        duration = conditions['duration']\n",
    "        \n",
    "        # Filter the filtered_df for the optimal conditions\n",
    "        filtered_optimal = filtered_df[\n",
    "            (filtered_df['Channel_Used'] == row['Channel_Used']) &\n",
    "            (filtered_df['Campaign_Type'] == row['Campaign_Type']) &\n",
    "            (filtered_df['Customer_Segment'].isin(target_audience)) &\n",
    "            (filtered_df['Duration'] == duration)\n",
    "        ]\n",
    "        \n",
    "        # Calculate average ROI for the optimal conditions\n",
    "        if not filtered_optimal.empty:\n",
    "            average_optimal_roi = filtered_optimal['ROI'].mean()\n",
    "        else:\n",
    "            average_optimal_roi = 0  # Handle cases where no data is found\n",
    "        \n",
    "        # Calculate Estimated Net Profit under optimal conditions\n",
    "        estimated_net_profit_optimal = row['Budget_Allocation'] * average_optimal_roi\n",
    "    else:\n",
    "        estimated_net_profit_optimal = 0  # Handle cases where no optimal conditions are defined\n",
    "\n",
    "    optimal_net_profits.append(estimated_net_profit_optimal)\n",
    "\n",
    "# Add the new column to the result DataFrame\n",
    "result_df['Estimated_Net_Profit_Optimal'] = optimal_net_profits\n",
    "\n",
    "# Format the Estimated Net Profit columns for readability\n",
    "result_df['Estimated_Net_Profit'] = \"$\" + result_df['Estimated_Net_Profit'].apply(lambda x: f\"{int(round(x))}\")\n",
    "result_df['Estimated_Net_Profit_Optimal'] = \"$\" + pd.Series(optimal_net_profits).apply(lambda x: f\"{int(round(x))}\")\n",
    "\n",
    "# Select relevant columns for the final output\n",
    "final_result = result_df[['Channel_Campaign', 'Estimated_Net_Profit', 'Estimated_Net_Profit_Optimal']]\n",
    "\n",
    "# Convert profit columns back to numeric for summation\n",
    "result_df['Estimated_Net_Profit'] = result_df['Estimated_Net_Profit'].replace({'\\$': '', '': '0'}, regex=True).astype(float)\n",
    "result_df['Estimated_Net_Profit_Optimal'] = result_df['Estimated_Net_Profit_Optimal'].replace({'\\$': '', '': '0'}, regex=True).astype(float)\n",
    "\n",
    "# Calculate total sums\n",
    "total_existing = result_df['Estimated_Net_Profit'].sum()\n",
    "total_optimal = result_df['Estimated_Net_Profit_Optimal'].sum()\n",
    "\n",
    "# Create a total row\n",
    "total_row = pd.DataFrame({\n",
    "    'Channel_Campaign': ['Total'],\n",
    "    'Estimated_Net_Profit': [f\"${int(total_existing)}\"],\n",
    "    'Estimated_Net_Profit_Optimal': [f\"${int(total_optimal)}\"]\n",
    "})\n",
    "\n",
    "# Append the total row to the final result\n",
    "final_result = pd.concat([final_result, total_row], ignore_index=True)\n",
    "\n"
   ]
  },
  {
   "cell_type": "code",
   "execution_count": 124,
   "metadata": {},
   "outputs": [
    {
     "name": "stdout",
     "output_type": "stream",
     "text": [
      "╒═════════════════════╤════════════════════════╤════════════════════════════════╕\n",
      "│ Channel_Campaign    │ Estimated_Net_Profit   │ Estimated_Net_Profit_Optimal   │\n",
      "╞═════════════════════╪════════════════════════╪════════════════════════════════╡\n",
      "│ Facebook - Email    │ $10091                 │ $10753                         │\n",
      "├─────────────────────┼────────────────────────┼────────────────────────────────┤\n",
      "│ Facebook - Search   │ $9821                  │ $10080                         │\n",
      "├─────────────────────┼────────────────────────┼────────────────────────────────┤\n",
      "│ Google Ads - Search │ $9234                  │ $9622                          │\n",
      "├─────────────────────┼────────────────────────┼────────────────────────────────┤\n",
      "│ Instagram - Email   │ $9919                  │ $10600                         │\n",
      "├─────────────────────┼────────────────────────┼────────────────────────────────┤\n",
      "│ Total               │ $39065                 │ $41055                         │\n",
      "╘═════════════════════╧════════════════════════╧════════════════════════════════╛\n"
     ]
    }
   ],
   "source": [
    "from tabulate import tabulate\n",
    "\n",
    "print(tabulate(final_result, headers='keys', tablefmt='fancy_grid', showindex=False))"
   ]
  }
 ],
 "metadata": {
  "kernelspec": {
   "display_name": "base",
   "language": "python",
   "name": "python3"
  },
  "language_info": {
   "codemirror_mode": {
    "name": "ipython",
    "version": 3
   },
   "file_extension": ".py",
   "mimetype": "text/x-python",
   "name": "python",
   "nbconvert_exporter": "python",
   "pygments_lexer": "ipython3",
   "version": "3.11.4"
  }
 },
 "nbformat": 4,
 "nbformat_minor": 2
}
